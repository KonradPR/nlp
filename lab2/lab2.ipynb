{
 "cells": [
  {
   "cell_type": "markdown",
   "id": "141f81e7",
   "metadata": {},
   "source": [
    "<h3>Lemmatization and full text search (FTS)</h3>"
   ]
  },
  {
   "cell_type": "markdown",
   "id": "11406c27",
   "metadata": {},
   "source": [
    "Konrad Przewłoka"
   ]
  },
  {
   "cell_type": "markdown",
   "id": "e18fb782",
   "metadata": {},
   "source": [
    "\n",
    "For this task a python Elastisearch library was used due to a rather simple api and general ease of use"
   ]
  },
  {
   "cell_type": "markdown",
   "id": "a9bd6f39",
   "metadata": {},
   "source": [
    "<h4>Necessary imports</h4>"
   ]
  },
  {
   "cell_type": "code",
   "execution_count": 1,
   "id": "55ddebd4",
   "metadata": {},
   "outputs": [
    {
     "name": "stdout",
     "output_type": "stream",
     "text": [
      "Requirement already satisfied: elasticsearch in c:\\users\\kpr\\appdata\\local\\programs\\python\\python310\\lib\\site-packages (8.4.3)\n",
      "Requirement already satisfied: elastic-transport<9,>=8 in c:\\users\\kpr\\appdata\\local\\programs\\python\\python310\\lib\\site-packages (from elasticsearch) (8.4.0)\n",
      "Requirement already satisfied: certifi in c:\\users\\kpr\\appdata\\local\\programs\\python\\python310\\lib\\site-packages (from elastic-transport<9,>=8->elasticsearch) (2022.9.24)\n",
      "Requirement already satisfied: urllib3<2,>=1.26.2 in c:\\users\\kpr\\appdata\\local\\programs\\python\\python310\\lib\\site-packages (from elastic-transport<9,>=8->elasticsearch) (1.26.12)\n"
     ]
    }
   ],
   "source": [
    "!pip install elasticsearch\n",
    "import os\n",
    "from elasticsearch import Elasticsearch"
   ]
  },
  {
   "cell_type": "markdown",
   "id": "227ebdd4",
   "metadata": {},
   "source": [
    "<h4>Creating elasticsearch client</h4>"
   ]
  },
  {
   "cell_type": "code",
   "execution_count": 2,
   "id": "d4a8fe50",
   "metadata": {},
   "outputs": [
    {
     "data": {
      "text/plain": [
       "ObjectApiResponse({'name': 'KONRAD', 'cluster_name': 'elasticsearch', 'cluster_uuid': 'oj3xJKcETvqZEUMdUAACiA', 'version': {'number': '8.4.3', 'build_flavor': 'default', 'build_type': 'zip', 'build_hash': '42f05b9372a9a4a470db3b52817899b99a76ee73', 'build_date': '2022-10-04T07:17:24.662462378Z', 'build_snapshot': False, 'lucene_version': '9.3.0', 'minimum_wire_compatibility_version': '7.17.0', 'minimum_index_compatibility_version': '7.0.0'}, 'tagline': 'You Know, for Search'})"
      ]
     },
     "execution_count": 2,
     "metadata": {},
     "output_type": "execute_result"
    }
   ],
   "source": [
    "#please kindly ignore those credentials, this ElasticSearch is no longer operational as of ending of this laboratory\n",
    "client = Elasticsearch(\"https://localhost:9200\",\n",
    "                    #verify_certs=False,\n",
    "                       ca_certs='../../elasticsearch-8.4.3//config/certs/http_ca.crt',\n",
    "                       basic_auth=(\"elastic\", 'zu02AJZclkOQ692G1dtr'))\n",
    "client.info()"
   ]
  },
  {
   "cell_type": "markdown",
   "id": "c9e35412",
   "metadata": {},
   "source": [
    "<h4>Creating index and defining analyzer</h4>"
   ]
  },
  {
   "cell_type": "code",
   "execution_count": 11,
   "id": "b5934240",
   "metadata": {},
   "outputs": [
    {
     "name": "stderr",
     "output_type": "stream",
     "text": [
      "C:\\Users\\KPR\\AppData\\Local\\Temp\\ipykernel_28536\\939522864.py:1: DeprecationWarning: The 'body' parameter is deprecated and will be removed in a future version. Instead use individual parameters.\n",
      "  client.indices.create(\n"
     ]
    },
    {
     "data": {
      "text/plain": [
       "ObjectApiResponse({'acknowledged': True, 'shards_acknowledged': True, 'index': 'ustawy_index'})"
      ]
     },
     "execution_count": 11,
     "metadata": {},
     "output_type": "execute_result"
    }
   ],
   "source": [
    " client.indices.create(\n",
    "        index=\"ustawy_index\",\n",
    "       body={\n",
    "            \"settings\":{  \n",
    "                \"analysis\":{  \n",
    "                    \"analyzer\":{  \n",
    "                        \"default\":{  \n",
    "                        \"type\":\"custom\",\n",
    "                        \"tokenizer\":\"standard\",\n",
    "                        \"filter\":[  \n",
    "                            \"synonyms\",\n",
    "                            \"morfologik_stem\",\n",
    "                            \"lowercase\",\n",
    "                        ]\n",
    "                        }\n",
    "                    },\n",
    "                    \"filter\":{\n",
    "                        \"synonyms\":{  \n",
    "                        \"type\":\"synonym\",\n",
    "                        \"synonyms\":[  \n",
    "                            \"kpk => kodeks postępowania karnego\",\n",
    "                            \"kpc => kodeks postępowania cywilnego\", \n",
    "                            \"kk => kodeks karny\",\n",
    "                            \"kc => kodeks cywilny\"\n",
    "                        ]}}}},})"
   ]
  },
  {
   "cell_type": "markdown",
   "id": "b6c4922f",
   "metadata": {},
   "source": [
    "<h4>Load data</h4>"
   ]
  },
  {
   "cell_type": "code",
   "execution_count": 69,
   "id": "e88030fd",
   "metadata": {},
   "outputs": [
    {
     "name": "stderr",
     "output_type": "stream",
     "text": [
      "C:\\Users\\KPR\\AppData\\Local\\Temp\\ipykernel_1632\\801060788.py:5: DeprecationWarning: The 'body' parameter is deprecated and will be removed in a future version. Instead use the 'document' parameter. See https://github.com/elastic/elasticsearch-py/issues/1698 for more information\n",
      "  client.create(index=\"ustawy_index\", id=file, body={\"data\": tmp})\n"
     ]
    }
   ],
   "source": [
    "files = os.listdir(\"../ustawy\") \n",
    "for file in files:\n",
    "    with open(\"../ustawy\" + '/' + file, 'r', encoding='utf8') as f:\n",
    "        tmp = f.read()\n",
    "        client.create(index=\"ustawy_index\", id=file, body={\"data\": tmp})\n"
   ]
  },
  {
   "cell_type": "markdown",
   "id": "f7177c3e",
   "metadata": {},
   "source": [
    "<h4>Count number of files containing word ustawa</h4>"
   ]
  },
  {
   "cell_type": "code",
   "execution_count": 4,
   "id": "67ffd00d",
   "metadata": {},
   "outputs": [
    {
     "name": "stderr",
     "output_type": "stream",
     "text": [
      "C:\\Users\\KPR\\AppData\\Local\\Temp\\ipykernel_28536\\140135700.py:1: DeprecationWarning: The 'body' parameter is deprecated and will be removed in a future version. Instead use individual parameters.\n",
      "  ustawy_result = client.search(\n"
     ]
    },
    {
     "data": {
      "text/plain": [
       "1178"
      ]
     },
     "execution_count": 4,
     "metadata": {},
     "output_type": "execute_result"
    }
   ],
   "source": [
    "ustawy_result = client.search(\n",
    "    index=\"ustawy_index\",\n",
    "    body={\n",
    "        \"query\": {\n",
    "            \"match\": {\n",
    "                \"data\": {\n",
    "                    \"query\": \"ustawa\"\n",
    "                }}}})\n",
    "ustawy_result[\"hits\"][\"total\"][\"value\"]"
   ]
  },
  {
   "cell_type": "markdown",
   "id": "74ce71eb",
   "metadata": {},
   "source": [
    "<h4>Counting occurences of word ustawa (all inflection forms)</h4>"
   ]
  },
  {
   "cell_type": "code",
   "execution_count": 74,
   "id": "37e1179c",
   "metadata": {},
   "outputs": [
    {
     "data": {
      "text/plain": [
       "24934"
      ]
     },
     "execution_count": 74,
     "metadata": {},
     "output_type": "execute_result"
    }
   ],
   "source": [
    "occurence_result=client.termvectors(index=\"ustawy_index\",\n",
    "                   term_statistics=True,\n",
    "                   field_statistics=True,\n",
    "                   fields=[\"data\"],\n",
    "                   id=\"1993_599.txt\")\n",
    "occurence_result[\"term_vectors\"][\"data\"][\"terms\"][\"ustawa\"][\"ttf\"]"
   ]
  },
  {
   "cell_type": "markdown",
   "id": "85d7145e",
   "metadata": {},
   "source": [
    "<h4>Count number of files containing phrase \"kodeks postępowania cywilnego\"</h4>"
   ]
  },
  {
   "cell_type": "code",
   "execution_count": 75,
   "id": "7d1d3155",
   "metadata": {},
   "outputs": [
    {
     "name": "stderr",
     "output_type": "stream",
     "text": [
      "C:\\Users\\KPR\\AppData\\Local\\Temp\\ipykernel_1632\\3244932394.py:1: DeprecationWarning: The 'body' parameter is deprecated and will be removed in a future version. Instead use individual parameters.\n",
      "  synonym_result=client.search(\n"
     ]
    },
    {
     "data": {
      "text/plain": [
       "99"
      ]
     },
     "execution_count": 75,
     "metadata": {},
     "output_type": "execute_result"
    }
   ],
   "source": [
    "synonym_result=client.search(\n",
    "    index=\"ustawy_index\",\n",
    "    body={\n",
    "        \"query\": {\n",
    "            \"match_phrase\": {\n",
    "                \"data\": {\n",
    "                    \"query\": \"kodeks postępowania cywilnego\"\n",
    "                }}}})\n",
    "synonym_result[\"hits\"][\"total\"][\"value\"]"
   ]
  },
  {
   "cell_type": "markdown",
   "id": "04422bf9",
   "metadata": {},
   "source": [
    "<h4>Count number of files containing phrase \"wchodzi w życie\"</h4>"
   ]
  },
  {
   "cell_type": "code",
   "execution_count": 78,
   "id": "0fc7d35f",
   "metadata": {},
   "outputs": [
    {
     "name": "stderr",
     "output_type": "stream",
     "text": [
      "C:\\Users\\KPR\\AppData\\Local\\Temp\\ipykernel_1632\\3852270603.py:1: DeprecationWarning: The 'body' parameter is deprecated and will be removed in a future version. Instead use individual parameters.\n",
      "  phrase_result = client.search(\n"
     ]
    },
    {
     "data": {
      "text/plain": [
       "1174"
      ]
     },
     "execution_count": 78,
     "metadata": {},
     "output_type": "execute_result"
    }
   ],
   "source": [
    "phrase_result = client.search(\n",
    "    index=\"ustawy_index\",\n",
    "    body={\n",
    "        \"query\": {\n",
    "            \"match_phrase\": {\n",
    "                \"data\": {\n",
    "                    \"query\": \"wchodzi w życie\",\n",
    "                    \"slop\": 2\n",
    "                }}}})\n",
    "phrase_result[\"hits\"]['total']['value']"
   ]
  },
  {
   "cell_type": "markdown",
   "id": "72d458a1",
   "metadata": {},
   "source": [
    "<h4>Top 10 documents for \"konstytucja\"</h4>"
   ]
  },
  {
   "cell_type": "code",
   "execution_count": 7,
   "id": "9dd784ee",
   "metadata": {},
   "outputs": [
    {
     "name": "stdout",
     "output_type": "stream",
     "text": [
      "1997_629.txt\n",
      "2000_443.txt\n",
      "1997_604.txt\n",
      "1996_350.txt\n",
      "1997_642.txt\n",
      "2001_23.txt\n",
      "1996_199.txt\n",
      "1999_688.txt\n",
      "1997_681.txt\n",
      "2001_1082.txt\n"
     ]
    },
    {
     "name": "stderr",
     "output_type": "stream",
     "text": [
      "C:\\Users\\KPR\\AppData\\Local\\Temp\\ipykernel_28536\\865889251.py:1: DeprecationWarning: The 'body' parameter is deprecated and will be removed in a future version. Instead use individual parameters.\n",
      "  konstytucja_result=client.search(\n"
     ]
    }
   ],
   "source": [
    "konstytucja_result=client.search(\n",
    "    index=\"ustawy_index\",\n",
    "    body={\n",
    "        \"query\": {\n",
    "            \"match\": {\n",
    "                \"data\": {\n",
    "                    \"query\": \"konstytucja\"\n",
    "                }}},\n",
    "        \"size\": 10})\n",
    "\n",
    "for i in range(10):\n",
    "    print(konstytucja_result[\"hits\"][\"hits\"][i]['_id'])"
   ]
  },
  {
   "cell_type": "markdown",
   "id": "9d9ffcc7",
   "metadata": {},
   "source": [
    "<h4>Top 3 highlights</h4>"
   ]
  },
  {
   "cell_type": "code",
   "execution_count": 9,
   "id": "bb4fca5e",
   "metadata": {},
   "outputs": [
    {
     "name": "stderr",
     "output_type": "stream",
     "text": [
      "C:\\Users\\KPR\\AppData\\Local\\Temp\\ipykernel_28536\\625406752.py:1: DeprecationWarning: The 'body' parameter is deprecated and will be removed in a future version. Instead use individual parameters.\n",
      "  konstytucja_result=client.search(\n"
     ]
    },
    {
     "name": "stdout",
     "output_type": "stream",
     "text": [
      "o zmianie ustawy konstytucyjnej o trybie przygotowania\n",
      "           i uchwalenia <em>Konstytucji</em> Rzeczypospolitej\n",
      "\n",
      "\n",
      "W ustawie  konstytucyjnej z  dnia 23 kwietnia 1992 r. o trybie przygotowania i \n",
      "uchwalenia <em>Konstytucji</em>\n",
      "\n",
      "\n",
      "Do zgłoszenia projektu <em>Konstytucji</em> załącza się wykaz \n",
      "                obywateli popierających zgłoszenie\n",
      "\n",
      "\n",
      "umowy międzynarodowej i nie wypełnia przesłanek określonych w art. 89\n",
      "     ust. 1 lub art. 90 <em>Konstytucji</em>\n",
      "\n",
      "\n",
      "międzynarodowej lub załącznika nie\n",
      "     wypełnia przesłanek określonych w art. 89 ust. 1 lub art. 90 <em>Konstytucji</em>\n",
      "\n",
      "\n",
      "co do zasadności wyboru\n",
      "  trybu ratyfikacji umowy międzynarodowej, o którym mowa w art. 89 ust. 2\n",
      "  <em>Konstytucji</em>\n",
      "\n",
      "\n",
      "Jeżeli Trybunał Konstytucyjny wyda orzeczenie o sprzeczności celów partii \n",
      "   politycznej z <em>Konstytucją</em>\n",
      "\n",
      "\n",
      "Jeżeli Trybunał Konstytucyjny wyda orzeczenie o sprzeczności z <em>Konstytucją</em>\n",
      "   celów lub działalności\n",
      "\n",
      "\n",
      "Ciężar udowodnienia niezgodności z <em>Konstytucją</em> spoczywa\n",
      "                na wnioskodawcy, który w tym\n",
      "\n",
      "\n",
      "Za naruszenie <em>Konstytucji</em> lub ustawy, w związku z zajmowanym\n",
      "              stanowiskiem lub w zakresie\n",
      "\n",
      "\n",
      "W zakresie określonym w art. 107 <em>Konstytucji</em> odpowiedzialność przed\n",
      "           Trybunałem Stanu ponoszą\n",
      "\n",
      "\n",
      "Członkowie Rady Ministrów ponoszą odpowiedzialność przed Trybunałem\n",
      "           Stanu za naruszenie <em>Konstytucji</em>\n",
      "\n",
      "\n",
      "wnioskami o:\n",
      "             1) stwierdzenie zgodności ustaw i umów międzynarodowych z\n",
      "               <em>Konstytucją</em>\n",
      "\n",
      "\n",
      "stwierdzenie zgodności przepisów prawa wydawanych przez\n",
      "               centralne organy państwowe, z <em>Konstytucją</em>\n",
      "\n",
      "\n",
      "ratyfikowanymi\n",
      "               umowami międzynarodowymi i ustawami,\n",
      "             4) stwierdzenie zgodności z <em>Konstytucją</em>\n",
      "\n",
      "\n",
      "W Dzienniku Ustaw Rzeczypospolitej Polskiej, zwanym dalej \"Dziennikiem\n",
      "  Ustaw\", ogłasza się:\n",
      "   1) <em>Konstytucję</em>\n",
      "\n",
      "\n",
      "akty prawne dotyczące:\n",
      "   1) stanu wojny i zawarcia pokoju,\n",
      "   2) referendum zatwierdzającego zmianę <em>Konstytucji</em>\n",
      "\n",
      "\n",
      "ministra, któremu Sejm wyraził wotum nieufności,\n",
      "     h) powoływania lub odwoływania na określone w <em>Konstytucji</em>\n",
      "\n",
      "\n",
      "2c i art. 9-11 ustawy konstytucyjnej z dnia 23 kwietnia \n",
      "1992 r. o trybie przygotowania i uchwalenia <em>Konstytucji</em>\n",
      "\n",
      "\n",
      "Prezydent Rzeczypospolitej Polskiej zarządza poddanie <em>Konstytucji</em> pod referendum\n",
      "   w trybie określonym\n",
      "\n",
      "\n",
      "Przyjęcie w referendum <em>Konstytucji</em> następuje wówczas, gdy opowiedziała \n",
      "   się za nią większość biorących\n",
      "\n",
      "\n",
      "postępowania w sprawie wykonywania inicjatywy\n",
      "ustawodawczej przez obywateli, o której mowa w art. 118 ust. 2 <em>Konstytucji</em>\n",
      "\n",
      "\n",
      "Projekt ustawy nie może dotyczyć spraw, dla których <em>Konstytucja</em>\n",
      "Rzeczypospolitej Polskiej zastrzega wyłączną\n",
      "\n",
      "\n",
      "Projekt ustawy wniesiony do Marszałka Sejmu powinien odpowiadać wymogom\n",
      "  zawartym w <em>Konstytucji</em> i Regulaminie\n",
      "\n",
      "\n",
      "Rzecznik Praw Dziecka, zwany dalej Rzecznikiem, stoi na straży praw dziecka\n",
      "  określonych w <em>Konstytucji</em>\n",
      "\n",
      "\n",
      "uroczyście, że przy wykonywaniu powierzonych mi obowiązków\n",
      "     Rzecznika Praw Dziecka dochowam wierności <em>Konstytucji</em>\n",
      "\n",
      "\n",
      "Krajowa Rada Sądownictwa, zwana dalej \"Radą\", realizuje cele określone w\n",
      "  <em>Konstytucji</em> Rzeczypospolitej\n",
      "\n",
      "\n",
      ") podejmuje uchwały w sprawach wystąpienia do Trybunału Konstytucyjnego o\n",
      "     zbadanie zgodności z <em>Konstytucją</em>\n",
      "\n",
      "\n"
     ]
    }
   ],
   "source": [
    "konstytucja_result=client.search(\n",
    "    index=\"ustawy_index\",\n",
    "    body={\n",
    "        \"query\": {\n",
    "            \"match\": {\n",
    "                \"data\": {\n",
    "                    \"query\": \"konstytucja\"\n",
    "                }}},\n",
    "        \"size\":10,\n",
    "         \"highlight\": {\n",
    "            \"fields\": {\n",
    "                \"data\": {}\n",
    "            },            \n",
    "            \"number_of_fragments\": 3,\n",
    "            \"boundary_scanner\": \"sentence\",\n",
    "\n",
    "        }})\n",
    "for i in range(10):\n",
    "    for sentence  in konstytucja_result['hits']['hits'][i]['highlight']['data']:\n",
    "        print(sentence)\n",
    "        print('\\n')"
   ]
  },
  {
   "cell_type": "code",
   "execution_count": 10,
   "id": "ba7f3526",
   "metadata": {},
   "outputs": [
    {
     "data": {
      "text/plain": [
       "ObjectApiResponse({'acknowledged': True})"
      ]
     },
     "execution_count": 10,
     "metadata": {},
     "output_type": "execute_result"
    }
   ],
   "source": [
    "client.indices.delete(index='ustawy_index')"
   ]
  },
  {
   "cell_type": "code",
   "execution_count": null,
   "id": "d4c83837",
   "metadata": {},
   "outputs": [],
   "source": []
  },
  {
   "cell_type": "code",
   "execution_count": null,
   "id": "d2853a16",
   "metadata": {},
   "outputs": [],
   "source": []
  }
 ],
 "metadata": {
  "kernelspec": {
   "display_name": "Python 3 (ipykernel)",
   "language": "python",
   "name": "python3"
  },
  "language_info": {
   "codemirror_mode": {
    "name": "ipython",
    "version": 3
   },
   "file_extension": ".py",
   "mimetype": "text/x-python",
   "name": "python",
   "nbconvert_exporter": "python",
   "pygments_lexer": "ipython3",
   "version": "3.10.7"
  }
 },
 "nbformat": 4,
 "nbformat_minor": 5
}
