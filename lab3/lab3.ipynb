{
 "cells": [
  {
   "cell_type": "markdown",
   "id": "ff8189cb",
   "metadata": {},
   "source": [
    "<h3>Levenshtein distance and spelling corrections</h3>"
   ]
  },
  {
   "cell_type": "markdown",
   "id": "76f1f591",
   "metadata": {},
   "source": [
    "Konrad Przewłoka"
   ]
  },
  {
   "cell_type": "markdown",
   "id": "66b94063",
   "metadata": {},
   "source": [
    "<h4>Necessary imports</h4>"
   ]
  },
  {
   "cell_type": "code",
   "execution_count": 120,
   "id": "1fd477b1",
   "metadata": {},
   "outputs": [
    {
     "data": {
      "text/plain": [
       "'pl.sgjp.sgjp-2022.09.26'"
      ]
     },
     "execution_count": 120,
     "metadata": {},
     "output_type": "execute_result"
    }
   ],
   "source": [
    "#!pip install elasticsearch\n",
    "#!pip install spacy\n",
    "#!pip install morfeusz2\n",
    "#!pip install levenshtein\n",
    "from elasticsearch import Elasticsearch\n",
    "from elasticsearch import helpers\n",
    "from spacy.tokenizer import Tokenizer\n",
    "from spacy.lang.pl import Polish\n",
    "import morfeusz2 \n",
    "import os\n",
    "import timeit\n",
    "import time\n",
    "from functools import lru_cache\n",
    "import random\n",
    "import collections\n",
    "import matplotlib.pyplot as plt\n",
    "morf = morfeusz2.Morfeusz()\n",
    "morf.dict_id() "
   ]
  },
  {
   "cell_type": "markdown",
   "id": "c28564bb",
   "metadata": {},
   "source": [
    "<h4>Load data</h4>"
   ]
  },
  {
   "cell_type": "code",
   "execution_count": 3,
   "id": "a4e83f2f",
   "metadata": {},
   "outputs": [],
   "source": [
    "data=[]\n",
    "files = os.listdir(\"../ustawy\") \n",
    "for file in files:\n",
    "    with open(\"../ustawy\" + '/' + file, 'r', encoding='utf8') as f:\n",
    "        tmp = f.read().lower()\n",
    "        data.append(tmp)"
   ]
  },
  {
   "cell_type": "markdown",
   "id": "1557ca62",
   "metadata": {},
   "source": [
    "<h4>Spacy tokenization</h4>\n",
    "Create frequency list and fillter out unnecessary words"
   ]
  },
  {
   "cell_type": "code",
   "execution_count": 22,
   "id": "8d977f56",
   "metadata": {},
   "outputs": [],
   "source": [
    "nlp = Polish()\n",
    "tokenizer = nlp.tokenizer\n",
    "frequency_lists = [collections.Counter([ t.text for t in tokenizer(r)]) for r in data]\n",
    "global_frequency_list = collections.Counter()\n",
    "for freq in frequency_lists:\n",
    "    global_frequency_list+=freq\n",
    "\n",
    "tmp = []\n",
    "for key in global_frequency_list.keys():\n",
    "    if len(key)<2 or not key.isalpha():\n",
    "        tmp.append(key)\n",
    "        \n",
    "for key in tmp:\n",
    "    del global_frequency_list[key]"
   ]
  },
  {
   "cell_type": "markdown",
   "id": "52107eea",
   "metadata": {},
   "source": [
    "<h4>Rank plot</h4>"
   ]
  },
  {
   "cell_type": "code",
   "execution_count": 11,
   "id": "aa962680",
   "metadata": {},
   "outputs": [
    {
     "data": {
      "image/png": "[encoded data removed]",
      "text/plain": [
       "<Figure size 640x480 with 1 Axes>"
      ]
     },
     "metadata": {},
     "output_type": "display_data"
    }
   ],
   "source": [
    "plt.plot([x for _,x in global_frequency_list.most_common()])\n",
    "plt.xlabel(\"word rank\")\n",
    "plt.ylabel(\"word frequency\")\n",
    "plt.title(\"Word frequence ranking\")\n",
    "plt.yscale(\"log\")"
   ]
  },
  {
   "cell_type": "code",
   "execution_count": 109,
   "id": "81788832",
   "metadata": {},
   "outputs": [
    {
     "name": "stdout",
     "output_type": "stream",
     "text": [
      "[('art', 83804), ('do', 60732), ('ust', 53636), ('na', 50643), ('się', 45886), ('lub', 45800), ('poz', 45224), ('nr', 44942), ('oraz', 33558), ('mowa', 28783), ('nie', 22988), ('przez', 20951), ('pkt', 19124), ('dnia', 17954), ('których', 17932), ('od', 16683), ('po', 13546), ('jest', 13197), ('ustawy', 13099), ('może', 12096), ('jeżeli', 12038), ('którym', 11789), ('za', 11142), ('brzmienie', 10576), ('spraw', 10021), ('otrzymuje', 9835), ('albo', 8708), ('dodaje', 8423), ('ich', 8199), ('dla', 7934)]\n"
     ]
    }
   ],
   "source": [
    "print( global_frequency_list.most_common()[:30])"
   ]
  },
  {
   "cell_type": "markdown",
   "id": "9dc5f146",
   "metadata": {},
   "source": [
    "<h4>Morfeusz usage"
   ]
  },
  {
   "cell_type": "code",
   "execution_count": 53,
   "id": "1f322ac3",
   "metadata": {},
   "outputs": [],
   "source": [
    "in_morf = [(x,y) for x,y in global_frequency_list.most_common() if morf.analyse(x)[0][2][2]!='ign']\n",
    "not_in_morf = [(x,y) for x,y in global_frequency_list.most_common() if morf.analyse(x)[0][2][2]=='ign']"
   ]
  },
  {
   "cell_type": "markdown",
   "id": "5e0655e6",
   "metadata": {},
   "source": [
    "<h4>Top 30 words not in dictionary</h4>"
   ]
  },
  {
   "cell_type": "code",
   "execution_count": 121,
   "id": "6fe89749",
   "metadata": {},
   "outputs": [
    {
     "name": "stdout",
     "output_type": "stream",
     "text": [
      "poz\n",
      "późn\n",
      "str\n",
      "gmo\n",
      "sww\n",
      "operacyjno\n",
      "skw\n",
      "rolno\n",
      "zm\n",
      "ex\n",
      "ike\n",
      "społeczno\n",
      "techniczno\n",
      "remediacji\n",
      "ure\n",
      "rozdz\n",
      "uke\n",
      "itp\n",
      "kn\n",
      "sanitarno\n",
      "charytatywno\n",
      "np\n",
      "cn\n",
      "pkwiu\n",
      "udt\n",
      "bswsg\n",
      "bswp\n",
      "biobójczych\n",
      "organizacyjno\n",
      "phs\n"
     ]
    }
   ],
   "source": [
    "not_in_dict_top = not_in_morf[:30]\n",
    "for x,y in not_in_dict_top:\n",
    "    print(x)"
   ]
  },
  {
   "cell_type": "markdown",
   "id": "00939141",
   "metadata": {},
   "source": [
    "<h4>30 random words not in dictionary</h4>"
   ]
  },
  {
   "cell_type": "code",
   "execution_count": 116,
   "id": "2cd45f52",
   "metadata": {},
   "outputs": [
    {
     "name": "stdout",
     "output_type": "stream",
     "text": [
      "soraz\n",
      "szero\n",
      "chuli\n",
      "chemi\n",
      "nakry\n",
      "związ\n",
      "zacią\n",
      "reach\n",
      "trafo\n",
      "pepap\n",
      "rwnie\n",
      "hamex\n",
      "haccp\n",
      "entso\n",
      "visna\n",
      "guido\n",
      "fiapf\n",
      "dnego\n",
      "znych\n",
      "tlene\n",
      "schro\n",
      "iboga\n",
      "menty\n",
      "czych\n",
      "ktrzy\n",
      "caapi\n",
      "eures\n",
      "alilu\n",
      "zasto\n",
      "diolu\n"
     ]
    }
   ],
   "source": [
    "not_in_dict_rand = [w for w,count in not_in_morf if len(w)==5 ]\n",
    "random.Random(40).shuffle(not_in_dict_rand)\n",
    "not_in_dict_rand = not_in_dict_rand[:30]\n",
    "for x in not_in_dict_rand:\n",
    "    print(x)"
   ]
  },
  {
   "cell_type": "markdown",
   "id": "1e6644d6",
   "metadata": {},
   "source": [
    "<h4>Levenshtein distance implementation</h4>"
   ]
  },
  {
   "cell_type": "code",
   "execution_count": 79,
   "id": "43fc8063",
   "metadata": {},
   "outputs": [],
   "source": [
    "#Implementation by Vatsal P. on Towards Data Science\n",
    "def lev_dist(a, b):\n",
    "    @lru_cache(None)  \n",
    "    def min_dist(s1, s2):\n",
    "\n",
    "        if s1 == len(a) or s2 == len(b):\n",
    "            return len(a) - s1 + len(b) - s2\n",
    "\n",
    "        # no change required\n",
    "        if a[s1] == b[s2]:\n",
    "            return min_dist(s1 + 1, s2 + 1)\n",
    "\n",
    "        return 1 + min(\n",
    "            min_dist(s1, s2 + 1),      # insert character\n",
    "            min_dist(s1 + 1, s2),      # delete character\n",
    "            min_dist(s1 + 1, s2 + 1),  # replace character\n",
    "        )\n",
    "\n",
    "    return min_dist(0, 0)"
   ]
  },
  {
   "cell_type": "markdown",
   "id": "a7bc8396",
   "metadata": {},
   "source": [
    "<h4>Levenshtein distance corrections prediction</h4>"
   ]
  },
  {
   "cell_type": "code",
   "execution_count": 122,
   "id": "3273ad62",
   "metadata": {},
   "outputs": [
    {
     "name": "stdout",
     "output_type": "stream",
     "text": [
      "81.7450385093689\n"
     ]
    }
   ],
   "source": [
    "def predict_corrections(to_correct,in_dictionary):\n",
    "    corrections={}\n",
    "    for w in to_correct:\n",
    "        distance_allowed = 0\n",
    "        corrections[w]=[]\n",
    "        found = False\n",
    "        while(not found):\n",
    "            distance_allowed += 1\n",
    "            for correction in in_dictionary:\n",
    "                if lev_dist(w, correction) == distance_allowed:\n",
    "                    found = True\n",
    "                    corrections[w].append(correction) \n",
    "    return corrections\n",
    "words_in_dict = [x for x,_ in in_morf]\n",
    "not_in_dict_top = [x for x,y in not_in_dict_top]\n",
    "predictions_top=predict_corrections(not_in_dict_top,words_in_dict)\n",
    "start = time.time()\n",
    "predictions_rand=predict_corrections(not_in_dict_rand,words_in_dict)\n",
    "end = time.time()\n",
    "print(end - start)"
   ]
  },
  {
   "cell_type": "code",
   "execution_count": 95,
   "id": "c4a8f241",
   "metadata": {},
   "outputs": [
    {
     "data": {
      "text/plain": [
       "{'poz': ['po', 'pod', 'poza', 'roz', 'pol', 'prz', 'pop'],\n",
       " 'późn': ['plan', 'pól', 'pan', 'pln', 'pół', 'pn', 'płyn', 'paź'],\n",
       " 'str': ['sar', 'st', 'stu', 'sto'],\n",
       " 'gmo': ['go', 'mo', 'imo', 'gm'],\n",
       " 'sww': ['swe', 'swą', 'sw', 'sów'],\n",
       " 'operacyjno': ['operacyjne',\n",
       "  'operacyjną',\n",
       "  'operacyjna',\n",
       "  'operacyjny',\n",
       "  'operacyjni'],\n",
       " 'skw': ['kw', 'sw', 'sów'],\n",
       " 'rolno': ['rolne', 'wolno', 'rolną', 'rolny', 'rolna', 'rolni'],\n",
       " 'zm': ['za', 'ze', 'zł', 'im', 'mm', 'cm', 'km', 'am', 'em', 'gm'],\n",
       " 'ex': ['ix', 'ej', 'xx', 'en', 'em', 'es', 'ef', 'et'],\n",
       " 'ike': ['ile'],\n",
       " 'społeczno': ['społeczne',\n",
       "  'społeczną',\n",
       "  'społeczny',\n",
       "  'społeczna',\n",
       "  'społeczni'],\n",
       " 'techniczno': ['techniczne',\n",
       "  'techniczny',\n",
       "  'techniczną',\n",
       "  'techniczna',\n",
       "  'techniczni'],\n",
       " 'remediacji': ['mediacji'],\n",
       " 'ure': ['ue', 'urz'],\n",
       " 'rozdz': ['rozkaz', 'rodzi', 'roz', 'rodu'],\n",
       " 'uke': ['ue'],\n",
       " 'itp': ['atp', 'ity'],\n",
       " 'kn': ['on',\n",
       "  'kg',\n",
       "  'in',\n",
       "  'km',\n",
       "  'kw',\n",
       "  'mn',\n",
       "  'ku',\n",
       "  'ka',\n",
       "  'en',\n",
       "  'kin',\n",
       "  'pn',\n",
       "  'ki'],\n",
       " 'sanitarno': ['sanitarny',\n",
       "  'sanitarne',\n",
       "  'sanitarna',\n",
       "  'sanitarną',\n",
       "  'sanitarni'],\n",
       " 'charytatywno': ['charytatywną', 'charytatywne', 'charytatywna'],\n",
       " 'np': ['na',\n",
       "  'nr',\n",
       "  'nbp',\n",
       "  'nip',\n",
       "  'lp',\n",
       "  'nt',\n",
       "  'sp',\n",
       "  'rp',\n",
       "  'pp',\n",
       "  'ni',\n",
       "  'ne',\n",
       "  'no',\n",
       "  'wp',\n",
       "  'nap'],\n",
       " 'cn': ['co',\n",
       "  'on',\n",
       "  'cen',\n",
       "  'ci',\n",
       "  'cm',\n",
       "  'in',\n",
       "  'ce',\n",
       "  'mn',\n",
       "  'ca',\n",
       "  'cl',\n",
       "  'en',\n",
       "  'pn'],\n",
       " 'pkwiu': ['kwitu', 'piwie'],\n",
       " 'udt': ['ust', 'ddt'],\n",
       " 'bswsg': ['usług',\n",
       "  'ksiąg',\n",
       "  'swój',\n",
       "  'wsi',\n",
       "  'swego',\n",
       "  'bieg',\n",
       "  'ewg',\n",
       "  'uwag',\n",
       "  'swej',\n",
       "  'susz',\n",
       "  'swe',\n",
       "  'bóg',\n",
       "  'swym',\n",
       "  'swą',\n",
       "  'wag',\n",
       "  'wg',\n",
       "  'brzeg',\n",
       "  'sw',\n",
       "  'burs',\n",
       "  'brwi',\n",
       "  'bursy',\n",
       "  'wsk',\n",
       "  'bursę',\n",
       "  'bse',\n",
       "  'issn',\n",
       "  'asyst',\n",
       "  'sg',\n",
       "  'owsa'],\n",
       " 'bswp': ['bhp', 'swe', 'swą', 'sp', 'sw', 'brwi', 'wp', 'bse', 'spp'],\n",
       " 'biobójczych': ['roboczych',\n",
       "  'zbiorczych',\n",
       "  'biorących',\n",
       "  'zdobniczych',\n",
       "  'ubiorczych',\n",
       "  'dowódczych'],\n",
       " 'organizacyjno': ['organizacyjne',\n",
       "  'organizacyjną',\n",
       "  'organizacyjna',\n",
       "  'organizacyjny'],\n",
       " 'phs': ['prs', 'pas', 'ph', 'ps']}"
      ]
     },
     "execution_count": 95,
     "metadata": {},
     "output_type": "execute_result"
    }
   ],
   "source": [
    "predictions_top"
   ]
  },
  {
   "cell_type": "code",
   "execution_count": 96,
   "id": "312760ed",
   "metadata": {},
   "outputs": [
    {
     "data": {
      "text/plain": [
       "{'soraz': ['oraz'],\n",
       " 'szero': ['szefa',\n",
       "  'szef',\n",
       "  'swego',\n",
       "  'sześć',\n",
       "  'sfery',\n",
       "  'czego',\n",
       "  'sierot',\n",
       "  'szefom',\n",
       "  'sfera',\n",
       "  'sferą',\n",
       "  'sery',\n",
       "  'szkło',\n",
       "  'styro',\n",
       "  'stert',\n",
       "  'szeroko',\n",
       "  'szereg',\n",
       "  'szeroki'],\n",
       " 'chuli': ['chwili',\n",
       "  'czyli',\n",
       "  'uchyli',\n",
       "  'celi',\n",
       "  'chęci',\n",
       "  'holi',\n",
       "  'coli',\n",
       "  'uli',\n",
       "  'hali'],\n",
       " 'chemi': ['chemii', 'chemia'],\n",
       " 'nakry': ['nakryć'],\n",
       " 'związ': ['związku', 'związek', 'związki', 'wiz', 'świąt', 'zwiad', 'zwie'],\n",
       " 'zacią': ['zaciąg'],\n",
       " 'reach': ['ramach',\n",
       "  'celach',\n",
       "  'rentach',\n",
       "  'cenach',\n",
       "  'cech',\n",
       "  'grach',\n",
       "  'ratach',\n",
       "  'ruch',\n",
       "  'radach',\n",
       "  'lekach',\n",
       "  'reali',\n",
       "  'rowach',\n",
       "  'blach',\n",
       "  'pesach',\n",
       "  'rzekach',\n",
       "  'ach',\n",
       "  'ulach',\n",
       "  'kach'],\n",
       " 'trafo': ['prawo',\n",
       "  'traci',\n",
       "  'tracą',\n",
       "  'trasy',\n",
       "  'trasa',\n",
       "  'trwało',\n",
       "  'trasę',\n",
       "  'traw',\n",
       "  'tras',\n",
       "  'trasą',\n",
       "  'traki',\n",
       "  'trafne',\n",
       "  'brało',\n",
       "  'trawę',\n",
       "  'trans'],\n",
       " 'pepap': ['etap', 'peda'],\n",
       " 'rwnie': ['równie', 'renie'],\n",
       " 'hamex': ['samej', 'same', 'haseł', 'kamer'],\n",
       " 'haccp': ['marca',\n",
       "  'zakup',\n",
       "  'ha',\n",
       "  'radcy',\n",
       "  'radca',\n",
       "  'dawcy',\n",
       "  'radcę',\n",
       "  'dacie',\n",
       "  'map',\n",
       "  'hasła',\n",
       "  'nauce',\n",
       "  'matce',\n",
       "  'radcą',\n",
       "  'hufce',\n",
       "  'hałas',\n",
       "  'hafty',\n",
       "  'haseł',\n",
       "  'dawca',\n",
       "  'lamp',\n",
       "  'atp',\n",
       "  'racji',\n",
       "  'wacht',\n",
       "  'dawcę',\n",
       "  'marcu',\n",
       "  'casco',\n",
       "  'halki',\n",
       "  'hadze',\n",
       "  'samce',\n",
       "  'halon',\n",
       "  'dawcą',\n",
       "  'dawce',\n",
       "  'macicy',\n",
       "  'naczep',\n",
       "  'wap',\n",
       "  'hucie',\n",
       "  'hasło',\n",
       "  'racie',\n",
       "  'hańbę',\n",
       "  'ac',\n",
       "  'tarcz',\n",
       "  'nap',\n",
       "  'racją',\n",
       "  'tac',\n",
       "  'ach',\n",
       "  'racice',\n",
       "  'hali',\n",
       "  'halach',\n",
       "  'gacz',\n",
       "  'hal',\n",
       "  'dachy',\n",
       "  'kach',\n",
       "  'haków',\n",
       "  'zasp'],\n",
       " 'entso': ['to',\n",
       "  'kto',\n",
       "  'renty',\n",
       "  'euro',\n",
       "  'netto',\n",
       "  'nowo',\n",
       "  'wnosi',\n",
       "  'efta',\n",
       "  'ono',\n",
       "  'rent',\n",
       "  'rentę',\n",
       "  'znosi',\n",
       "  'renta',\n",
       "  'mięso',\n",
       "  'wto',\n",
       "  'konto',\n",
       "  'łatwo',\n",
       "  'sito',\n",
       "  'nt',\n",
       "  'ester',\n",
       "  'centra',\n",
       "  'ego',\n",
       "  'nosi',\n",
       "  'nego',\n",
       "  'estry',\n",
       "  'rentą',\n",
       "  'etat',\n",
       "  'en',\n",
       "  'sto',\n",
       "  'etap',\n",
       "  'iso',\n",
       "  'okso',\n",
       "  'nosa',\n",
       "  'veto',\n",
       "  'nawo',\n",
       "  'centrom',\n",
       "  'inkaso',\n",
       "  'no',\n",
       "  'estru',\n",
       "  'etosu',\n",
       "  'cenowo',\n",
       "  'anten',\n",
       "  'tło',\n",
       "  'nysa',\n",
       "  'umts',\n",
       "  'nisko',\n",
       "  'etui',\n",
       "  'wenty',\n",
       "  'ano',\n",
       "  'esu',\n",
       "  'auto',\n",
       "  'es',\n",
       "  'ety',\n",
       "  'etos',\n",
       "  'ante',\n",
       "  'so',\n",
       "  'et',\n",
       "  'żyto',\n",
       "  'nitro'],\n",
       " 'visna': ['inna',\n",
       "  'pisma',\n",
       "  'wina',\n",
       "  'lista',\n",
       "  'misja',\n",
       "  'pilna',\n",
       "  'vin',\n",
       "  'winna',\n",
       "  'wisła',\n",
       "  'pitna',\n",
       "  'kina',\n",
       "  'niska',\n",
       "  'nina',\n",
       "  'fina'],\n",
       " 'guido': ['budo', 'guano'],\n",
       " 'fiapf': ['fiat'],\n",
       " 'dnego': ['danego', 'nego'],\n",
       " 'znych': ['nych', 'złych'],\n",
       " 'tlene': ['tlenek', 'tlenu', 'tlen', 'tlenem'],\n",
       " 'schro': ['styro', 'schrony'],\n",
       " 'iboga': ['droga', 'obojga', 'zboża', 'toga'],\n",
       " 'menty': ['renty', 'wenty'],\n",
       " 'czych': ['cych'],\n",
       " 'ktrzy': ['którzy', 'trzy', 'korzy'],\n",
       " 'caapi': ['karpi', 'cłami'],\n",
       " 'eures': ['okres',\n",
       "  'adres',\n",
       "  'euro',\n",
       "  'kurs',\n",
       "  'jurek',\n",
       "  'burs',\n",
       "  'stres',\n",
       "  'aureus'],\n",
       " 'alilu': ['azylu', 'ilu'],\n",
       " 'zasto': ['zasad',\n",
       "  'miasto',\n",
       "  'zasób',\n",
       "  'zastaw',\n",
       "  'nadto',\n",
       "  'jasno',\n",
       "  'masło',\n",
       "  'zasłon',\n",
       "  'sto',\n",
       "  'casco',\n",
       "  'zbyto',\n",
       "  'past',\n",
       "  'złoto',\n",
       "  'zastano',\n",
       "  'hasło',\n",
       "  'czysto',\n",
       "  'zaszło',\n",
       "  'pastor',\n",
       "  'często',\n",
       "  'auto',\n",
       "  'zajęto',\n",
       "  'gęsto',\n",
       "  'astm',\n",
       "  'pasmo',\n",
       "  'zastój',\n",
       "  'zatok',\n",
       "  'zasp'],\n",
       " 'diolu': ['domu',\n",
       "  'wielu',\n",
       "  'opolu',\n",
       "  'miodu',\n",
       "  'dołu',\n",
       "  'ilu',\n",
       "  'pionu',\n",
       "  'niklu',\n",
       "  'polu',\n",
       "  'dole',\n",
       "  'miotu']}"
      ]
     },
     "execution_count": 96,
     "metadata": {},
     "output_type": "execute_result"
    }
   ],
   "source": [
    "predictions_rand"
   ]
  },
  {
   "cell_type": "markdown",
   "id": "d2ae8789",
   "metadata": {},
   "source": [
    "<h4>Loading SGJP into elasticsearch</h4>"
   ]
  },
  {
   "cell_type": "code",
   "execution_count": 101,
   "id": "0d58a9ec",
   "metadata": {},
   "outputs": [
    {
     "data": {
      "text/plain": [
       "(3195228, [])"
      ]
     },
     "execution_count": 101,
     "metadata": {},
     "output_type": "execute_result"
    }
   ],
   "source": [
    "client = Elasticsearch(\"https://localhost:9200\",\n",
    "                    #verify_certs=False,\n",
    "                       ca_certs='../../elasticsearch-8.4.3//config/certs/http_ca.crt',\n",
    "                       basic_auth=(\"elastic\", 'zu02AJZclkOQ692G1dtr'))\n",
    "client.info()\n",
    "client.indices.create(index=\"sgjp\")\n",
    "dict_words=[]\n",
    "\n",
    "with open('../sgjp-20221023.tab', encoding='utf-8') as f:\n",
    "    for line in f:\n",
    "        if len(line.split()) != 4:\n",
    "            continue\n",
    "        else:\n",
    "            dict_words.append(line.split()[0])\n",
    "bulk_query = [{'_index': \"sgjp\", 'word': word} for word in dict_words]\n",
    "helpers.bulk(client, bulk_query)"
   ]
  },
  {
   "cell_type": "markdown",
   "id": "734bd791",
   "metadata": {},
   "source": [
    "<h4>Elasticsearch correction prediction</h4>"
   ]
  },
  {
   "cell_type": "code",
   "execution_count": 123,
   "id": "0f9d1691",
   "metadata": {},
   "outputs": [
    {
     "name": "stderr",
     "output_type": "stream",
     "text": [
      "C:\\Users\\KPR\\AppData\\Local\\Temp\\ipykernel_23332\\729774045.py:5: DeprecationWarning: The 'body' parameter is deprecated and will be removed in a future version. Instead use individual parameters.\n",
      "  result = client.search(index='sgjp', body={\"query\": {\"fuzzy\": {\"word\": {\"value\": to_correct, \"fuzziness\": 2}}}})\n"
     ]
    },
    {
     "name": "stdout",
     "output_type": "stream",
     "text": [
      "0.29030919075012207\n",
      "{'soraz': ['Doraz', 'oraz', 'Borak', 'Borak', 'Boral', 'Boral', 'Boras', 'Boras', 'Borcz', 'Borcz'], 'szero': ['Spero', 'Spero', 'Stero', 'Stero', 'Szaro', 'Szaro', 'Szaro', 'Szaro', 'Szaro', 'Szego'], 'chuli': ['Chyli', 'Chyli', 'Chyli', 'Chyli', 'Huli', 'Huli', 'Huli', 'Huli', 'Anuli', 'Anuli'], 'chemi': ['chami', 'chemia', 'chemie', 'chemii', 'chemii', 'chemio', 'chemią', 'chemię', 'chemik', 'Cemki'], 'nakry': ['Nakły', 'Nakory', 'Nakły', 'Nawry', 'Nawry', 'Nawry', 'Nawry', 'Sakry', 'Sakry', 'Sakry'], 'związ': ['Wiąz', 'Wiąz', 'wiąz', 'Owidz', 'Wiąza', 'Wiązy', 'Zawidz', 'Zawidz', 'Zawisz', 'Zawisz'], 'zacią': ['Bacią', 'Bacią', 'Gacią', 'Gacią', 'Gacią', 'Hacią', 'Hacią', 'Pacią', 'Pacią', 'Zachą'], 'reach': ['Leach', 'Leach', 'Recach', 'Recach', 'Recach', 'Redach', 'Redach', 'Redach', 'Redach', 'Regach'], 'trafo': ['Tralo', 'Tralo', 'Trawo', 'Trawo', 'Trało', 'Trało', 'trafom', 'trafu', 'trafy', 'tramo'], 'pepap': ['Pepaś', 'Pepaś', 'Cepak', 'Cepak', 'Lepak', 'Lepak', 'Nepal', 'Papaj', 'Papaj', 'Papał'], 'rwnie': ['Iwnie', 'Ownie', 'Renie', 'Renie', 'Renie', 'Renie', 'Renie', 'Renie', 'Ronie', 'Runie'], 'hamex': ['Hamer', 'Hamer', 'Hamer', 'Ahmed', 'Chamem', 'Chamer', 'Damem', 'Damek', 'Damek', 'Habel'], 'haccp': ['Cacce', 'Dacce', 'Dacce', 'Dacce', 'Gacce', 'Gacce', 'Gaccy', 'Hacach', 'Hacem', 'Hacom'], 'entso': ['Antos', 'Antos', 'Bentko', 'Bentko', 'Enosz', 'Jento', 'Jento', 'Netto', 'Rento', 'Wento'], 'visna': ['Cisna', 'Lisna', 'Lisna', 'vina', 'visa', 'Biesna', 'Biesna', 'Bilna', 'Bilna', 'Birna'], 'guido': ['Gaido', 'Gaido', 'Gnido', 'Gnido', 'Gujdo', 'Gujdo', 'Gurdo', 'Gurdo', 'Guźdo', 'Guźdo'], 'fiapf': ['Ciapa', 'Ciapo', 'Ciapy', 'Ciapy', 'Ciapą', 'Ciapę', 'Ciapa', 'Ciapo', 'Ciapy', 'Ciapy'], 'dnego': ['Diego', 'Diego', 'Onego', 'cnego', 'cnego', 'onego', 'onego', 'Nego', 'Nego', 'Alego'], 'znych': ['Gnych', 'Gnych', 'Knych', 'Knych', 'Zdych', 'Zdych', 'Złych', 'Złych', 'cnych', 'cnych'], 'tlene': ['Tleni', 'Tlenie', 'tlenem', 'tlenie', 'tlenie', 'tlenu', 'tleny', 'tlenek', 'tlen', 'Bleje'], 'schro': ['ochro', 'schron', 'Bochro', 'Bochro', 'Cachro', 'Cachro', 'Cachro', 'Cachro', 'Cachro', 'Charo'], 'iboga': ['boga', 'Biega', 'Biega', 'Biega', 'Bogaj', 'Bogaj', 'Bogal', 'Bogal', 'Bogda', 'Bogla'], 'menty': ['Centy', 'Jenty', 'Jenty', 'Jenty', 'Jenty', 'Kenty', 'Mehty', 'Mehty', 'Menety', 'Merty'], 'czych': ['Czach', 'Czach', 'Czach', 'Czech', 'Czech', 'Czech', 'Czech', 'Czoch', 'Czoch', 'Czuch'], 'ktrzy': ['Kirzy', 'Korzy', 'Korzy', 'Korzy', 'Korzy', 'Kurzy', 'Kurzy', 'Kurzy', 'Kurzy', 'Kurzy'], 'caapi': ['Capai', 'Capai', 'Capai', 'Capai', 'Cabami', 'Cabami', 'Cabaki', 'Cacki', 'Cacki', 'Cacki'], 'eures': ['Eurek', 'Aires', 'Burem', 'Burej', 'Burej', 'Buras', 'Buras', 'Burek', 'Burek', 'Buret'], 'alilu': ['alitu', 'Abelu', 'Abelu', 'Achilu', 'Achilu', 'Adelu', 'Akwilu', 'Alemu', 'Alich', 'Alich'], 'zasto': ['Basto', 'Basto', 'Zaspo', 'kasto', 'nasto', 'pasto', 'zaspo', 'zasuto', 'Asto', 'Aosto'], 'diolu': ['dipolu', 'dipolu', 'idolu', 'idolu', 'idolu', 'idolu', 'tiolu', 'tiolu', 'tiolu', 'dilu']}\n"
     ]
    }
   ],
   "source": [
    "es_corrections={}\n",
    "start = time.time()\n",
    "for to_correct in not_in_dict_rand:\n",
    "    es_corrections[to_correct]=[]\n",
    "    result = client.search(index='sgjp', body={\"query\": {\"fuzzy\": {\"word\": {\"value\": to_correct, \"fuzziness\": 2}}}})\n",
    "    es_corrections[to_correct]=[correction['_source']['word'] for correction in result['hits']['hits']]\n",
    "end = time.time()\n",
    "print(end - start)\n",
    "print(es_corrections)"
   ]
  },
  {
   "cell_type": "markdown",
   "id": "7551335d",
   "metadata": {},
   "source": [
    "<h4>Distribution of words in the corpus</h4>\n",
    "<p>We see that some words are clearly more common in the corpus than others with a significant drop in usage as we move along the ranks. There is a tenfold decrease in usage between the most common word in corpus and the 30th most common one. Other than that less than half of words appear more that ten times. Those discrepancies can steam from two factors, one being the topic of the texts (since high usage of words like ustawa, spraw etc) and the other being the fact that some words are simply common in usage such as: się, na, lub.</p>"
   ]
  },
  {
   "cell_type": "markdown",
   "id": "5a80a1db",
   "metadata": {},
   "source": [
    "<h4>Misspellings versus unknowns</h4>\n",
    "<p>Looking at he the random words not in the dictionary with five occurrences we can clearly see that while some words are easily identifiable as misspellings (soraz\n",
    "-oraz, dnego-danego, ktrzy-którzy), some simply don’t exist in the dictionary used (visna - prawdopodobnie nazwa miasta, hamex - prawdopodobnie nazwa własna, reach - prawdopodobnie słowo z języka angielskiego) dodatkowo niektóre słowa ciężko przypisać do którejś z tych dwóch grup nie znając kontekstu ich użycia (chuli, pepap, diolu). Additionally some words seem to be split by tokenization (schro, zasto) and thus not found in the dictionary.</p>\n",
    "<p>When looking at the most common words not found in the dictionary we see that much less of them look like misspellings compared to the randomly chosen ones. Most words from this list look like abbreviations (zm, ike, ex, gmo, skw,str) others look like unknown in the dictionary declinations (rolno, społeczno, techniczno, sanitarno)</p>"
   ]
  },
  {
   "cell_type": "markdown",
   "id": "d3ecb16a",
   "metadata": {},
   "source": [
    "<h4>Performance of methods</h4>\n",
    "<p>\n",
    "In terms of performance it is hard to compare the Elasticsearch method and the Levenshtein method in terms of\n",
    "the quality of corrections they provide. As such the main metric of comparison chosen was time of execution.</p>\n",
    "<p>Time of execution for Levenshtein: 81.7450385093689s</p>\n",
    "<p>Time of execution for Elasticsearch: 0.2903091907501s</p>\n",
    "Elasticsearch method clearly outperforms Levenshtein in terms of execution time.\n",
    "\n"
   ]
  },
  {
   "cell_type": "markdown",
   "id": "082ce311",
   "metadata": {},
   "source": [
    "<h4>Correction result comparison and the validity of results</h4>\n",
    "<p>The results returned by both methods seem to be significantly different. Elasticsearch returned more possible corrections for most words given (as it is based on the whole SGJP dictionary while the Levenshtein approach used only words from the dictionary that have appeared in the text corpus) and in much shorter time. While the Levenshtein usually returned less results per word, the corrections returned seem to be of higher quality than the Elasticsearch ones. For example for word “soraz” Levensthein returned  only one correction “oraz” while Elasticsearch returned a whole array of corrections: ['Doraz', 'oraz', 'Borak', 'Borak', 'Boral', 'Boral', 'Boras', 'Boras', 'Borcz', 'Borcz'] most of those seem to be proper names and thus not applicable in most cases. For the Levenshtein method most words searched seem to get at least one fitting correction; validity of those corrections is corroborated by the fact that those corrections already exist in both the dictionary given and the text corpus used. In the case of Elasticsearch the corrections returned seem to be of lesser quality. While both methods utilize the Levenshtein distance the results are vastly different due to different dictionary bases and probably due to different selection of possible corrections to be checked (while my algorithm traverses the whole dictionary given it is highly unlikely that Elasticsearch does the same).</p>"
   ]
  },
  {
   "cell_type": "code",
   "execution_count": null,
   "id": "0912130f",
   "metadata": {},
   "outputs": [],
   "source": []
  },
  {
   "cell_type": "code",
   "execution_count": null,
   "id": "35ec045c",
   "metadata": {},
   "outputs": [],
   "source": []
  }
 ],
 "metadata": {
  "kernelspec": {
   "display_name": "Python 3 (ipykernel)",
   "language": "python",
   "name": "python3"
  },
  "language_info": {
   "codemirror_mode": {
    "name": "ipython",
    "version": 3
   },
   "file_extension": ".py",
   "mimetype": "text/x-python",
   "name": "python",
   "nbconvert_exporter": "python",
   "pygments_lexer": "ipython3",
   "version": "3.10.7"
  }
 },
 "nbformat": 4,
 "nbformat_minor": 5
}
