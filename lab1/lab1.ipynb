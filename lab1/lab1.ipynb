{
 "cells": [
  {
   "cell_type": "markdown",
   "id": "3ab91e2d",
   "metadata": {},
   "source": [
    "<h3>Regular expressions (aka regexps)</h3>"
   ]
  },
  {
   "cell_type": "markdown",
   "id": "5d86f78b",
   "metadata": {},
   "source": [
    "Konrad Przewłoka"
   ]
  },
  {
   "cell_type": "markdown",
   "id": "7aa57e5b",
   "metadata": {},
   "source": [
    "<h4>Necessary imports:</h4>"
   ]
  },
  {
   "cell_type": "code",
   "execution_count": 177,
   "id": "76c7b205",
   "metadata": {},
   "outputs": [
    {
     "name": "stdout",
     "output_type": "stream",
     "text": [
      "Requirement already satisfied: matplotlib in c:\\users\\kpr\\appdata\\local\\programs\\python\\python310\\lib\\site-packages (3.6.1)\n",
      "Requirement already satisfied: fonttools>=4.22.0 in c:\\users\\kpr\\appdata\\local\\programs\\python\\python310\\lib\\site-packages (from matplotlib) (4.37.4)\n",
      "Requirement already satisfied: python-dateutil>=2.7 in c:\\users\\kpr\\appdata\\local\\programs\\python\\python310\\lib\\site-packages (from matplotlib) (2.8.2)\n",
      "Requirement already satisfied: kiwisolver>=1.0.1 in c:\\users\\kpr\\appdata\\local\\programs\\python\\python310\\lib\\site-packages (from matplotlib) (1.4.4)\n",
      "Requirement already satisfied: packaging>=20.0 in c:\\users\\kpr\\appdata\\local\\programs\\python\\python310\\lib\\site-packages (from matplotlib) (21.3)\n",
      "Requirement already satisfied: numpy>=1.19 in c:\\users\\kpr\\appdata\\local\\programs\\python\\python310\\lib\\site-packages (from matplotlib) (1.23.4)\n",
      "Requirement already satisfied: cycler>=0.10 in c:\\users\\kpr\\appdata\\local\\programs\\python\\python310\\lib\\site-packages (from matplotlib) (0.11.0)\n",
      "Requirement already satisfied: pillow>=6.2.0 in c:\\users\\kpr\\appdata\\local\\programs\\python\\python310\\lib\\site-packages (from matplotlib) (9.2.0)\n",
      "Requirement already satisfied: pyparsing>=2.2.1 in c:\\users\\kpr\\appdata\\local\\programs\\python\\python310\\lib\\site-packages (from matplotlib) (3.0.9)\n",
      "Requirement already satisfied: contourpy>=1.0.1 in c:\\users\\kpr\\appdata\\local\\programs\\python\\python310\\lib\\site-packages (from matplotlib) (1.0.5)\n",
      "Requirement already satisfied: six>=1.5 in c:\\users\\kpr\\appdata\\local\\programs\\python\\python310\\lib\\site-packages (from python-dateutil>=2.7->matplotlib) (1.16.0)\n"
     ]
    },
    {
     "name": "stderr",
     "output_type": "stream",
     "text": [
      "\n",
      "[notice] A new release of pip available: 22.2.2 -> 22.3\n",
      "[notice] To update, run: python.exe -m pip install --upgrade pip\n"
     ]
    }
   ],
   "source": [
    "import re\n",
    "import os\n",
    "import functools\n",
    "!pip install matplotlib\n",
    "import matplotlib.pyplot as plt\n",
    "import numpy as np"
   ]
  },
  {
   "cell_type": "markdown",
   "id": "c9b2f8fe",
   "metadata": {},
   "source": [
    "<h4>Load data:</h4>"
   ]
  },
  {
   "cell_type": "code",
   "execution_count": 178,
   "id": "1e8f0f35",
   "metadata": {},
   "outputs": [
    {
     "data": {
      "text/plain": [
       "dict_keys([1993, 1994, 1995, 1996, 1997, 1998, 1999, 2000, 2001, 2002, 2003, 2004])"
      ]
     },
     "execution_count": 178,
     "metadata": {},
     "output_type": "execute_result"
    }
   ],
   "source": [
    "data=[]\n",
    "data_dict={}\n",
    "for file in os.listdir('../ustawy'):\n",
    "    with open(\"../ustawy/\"+file, \"r\", encoding=\"utf8\") as f:\n",
    "        text = functools.reduce(lambda a,b: a + b, f.readlines())\n",
    "        year = int(file[0:4])\n",
    "        data.append([year,text])\n",
    "        \n",
    "for [year,text] in data:\n",
    "    if year not in data_dict.keys():\n",
    "        data_dict[year]=[text]\n",
    "    else:\n",
    "        data_dict[year].append(text)\n",
    "\n",
    "    \n",
    "data_dict.keys()"
   ]
  },
  {
   "cell_type": "markdown",
   "id": "33129f89",
   "metadata": {},
   "source": [
    "<h4>Utility functions</h4>"
   ]
  },
  {
   "cell_type": "code",
   "execution_count": 179,
   "id": "b6ac0f1f",
   "metadata": {},
   "outputs": [],
   "source": [
    "#count pattern matches by year\n",
    "def count_per_year(pattern,data):\n",
    "    result={}\n",
    "    for key in data.keys():\n",
    "        count=0\n",
    "        for text in data[key]:\n",
    "            count+=len(re.findall(pattern,text.lower()))\n",
    "        result[key]=count\n",
    "    return result\n",
    "\n",
    "def count_all(pattern,data):\n",
    "    result=0\n",
    "    for key in data.keys():\n",
    "        for text in data[key]:\n",
    "            result+=len(re.findall(pattern,text))\n",
    "    return result"
   ]
  },
  {
   "cell_type": "markdown",
   "id": "186febf0",
   "metadata": {},
   "source": [
    "<h4>Basic data analysis:</h4>\n",
    "according to 'zasady techniki prawodawczej' we can distinguish following types of units in bills:\n",
    "<ul>\n",
    "<li> artykuł</li>\n",
    "<li> paragraf</li>\n",
    "<li> ustęp</li>\n",
    "<li> punkt</li>\n",
    "<li> litera</li>\n",
    " </ul>\n",
    "Knowing this we can prepare a regex as such:\n",
    "<p>(art\\.|§|ust\\.|pkt|lit\\.)\\s+\\d+[a-z]?</p>\n"
   ]
  },
  {
   "cell_type": "markdown",
   "id": "50df928d",
   "metadata": {},
   "source": [
    "<h4>Counting bill amendments</h4>\n",
    "A manual review of a sample of data was conducted and a following construction matching given criteria and not given as an example in the task was found:\n",
    "<ul>\n",
    "    <li>pkt 3 i 4 otrzymują brzmienie</li>\n",
    "</ul>\n",
    "\n",
    "This construction has been classified as a change of unit. \n",
    "Other examples have not been found during the text reviews."
   ]
  },
  {
   "cell_type": "code",
   "execution_count": 180,
   "id": "ae3cef5f",
   "metadata": {
    "scrolled": true
   },
   "outputs": [
    {
     "name": "stdout",
     "output_type": "stream",
     "text": [
      "Additions:\n",
      "{1993: 32, 1994: 105, 1995: 326, 1996: 498, 1997: 665, 1998: 217, 1999: 153, 2000: 759, 2001: 1096, 2002: 91, 2003: 1025, 2004: 1029}\n",
      "Removals:\n",
      "{1993: 14, 1994: 21, 1995: 74, 1996: 179, 1997: 210, 1998: 82, 1999: 39, 2000: 283, 2001: 186, 2002: 3, 2003: 51, 2004: 17}\n",
      "Changes:\n",
      "{1993: 61, 1994: 170, 1995: 361, 1996: 866, 1997: 1050, 1998: 288, 1999: 163, 2000: 1460, 2001: 1361, 2002: 183, 2003: 1807, 2004: 1591}\n"
     ]
    }
   ],
   "source": [
    "#Addition of unit\n",
    "add_regex='dodaje\\s+się\\s+(art\\.|§|ust\\.|pkt|lit\\.)\\s+\\d+[a-z]?'\n",
    "add_result = count_per_year(add_regex,data_dict)\n",
    "\n",
    "\n",
    "#Removal of unit\n",
    "rm_regex='(art\\.|§|ust\\.|pkt|lit\\.)\\s+\\d+[a-z]?\\s+skreśla\\s+się\\s+'\n",
    "rm_result = count_per_year(rm_regex,data_dict)\n",
    "\n",
    "\n",
    "#Change of unit\n",
    "change1_regex='(art\\.|§|ust\\.|pkt|lit\\.)\\s+\\d+[a-z]?\\s+otrzymuje\\s+brzmienie'\n",
    "change1_result = count_per_year(change1_regex,data_dict)\n",
    "\n",
    "change2_regex='(art\\.|§|ust\\.|pkt|lit\\.)\\s+\\d+[a-z]?\\s+i\\s+\\d+\\s+otrzymują\\s+brzmienie'\n",
    "change2_result = count_per_year(change3_regex,data_dict)\n",
    "\n",
    "\n",
    "change_result={}\n",
    "sum_result={}\n",
    "for year in data_dict.keys():\n",
    "    change_result[year] = change1_result[year]+change2_result[year]\n",
    "    sum_result[year] = change_result[year]+add_result[year]+rm_result[year]\n",
    "    \n",
    "print('Additions:')\n",
    "print(add_result)\n",
    "print('Removals:')\n",
    "print(rm_result)\n",
    "print('Changes:')\n",
    "print(change_result)\n",
    "add_percentage=[list(add_result.values())[i]*100/list(sum_result.values())[i] for i in range(12)]\n",
    "rm_percentage=[list(rm_result.values())[i]*100/list(sum_result.values())[i] for i in range(12)]\n",
    "change_percentage=[list(change_result.values())[i]*100/list(sum_result.values())[i] for i in range(12)]\n",
    "histogram_tmp_bottom=[sum(x) for x in zip(rm_percentage, add_percentage)]"
   ]
  },
  {
   "cell_type": "markdown",
   "id": "17c69362",
   "metadata": {},
   "source": [
    "<h4>Chart of percentage distribution of amendment types per years</h4>"
   ]
  },
  {
   "cell_type": "code",
   "execution_count": 181,
   "id": "a4c2741c",
   "metadata": {},
   "outputs": [
    {
     "data": {
      "image/png": "[encoded data removed]",
      "text/plain": [
       "<Figure size 640x480 with 1 Axes>"
      ]
     },
     "metadata": {},
     "output_type": "display_data"
    }
   ],
   "source": [
    "X = np.arange(12)\n",
    "plt.title(\"Percentage distribution of edition types per years\")\n",
    "plt.bar(X , add_percentage, color = 'b',  label='additions', width=0.5)\n",
    "plt.bar(X , rm_percentage, color = 'g', bottom=add_percentage, label='removals', width=0.5)\n",
    "plt.bar(X , change_percentage, color = 'r', bottom=histogram_tmp_bottom , label='changes', width=0.5)\n",
    "plt.xticks([r  for r in range(12)], [year for year in range(1993, 2005)])\n",
    "plt.legend(loc='best')\n",
    "plt.show()"
   ]
  },
  {
   "cell_type": "markdown",
   "id": "43f9ffce",
   "metadata": {},
   "source": [
    "<h4>Counting of \"ustawa\" occurences</h4>\n",
    "We notice that all possible versions of the given word are constructed using base \"ustaw\" and adding postfixes such as \"a\" \"ie\" etc.\n",
    "Knowing this we can construct a regex looking for all inflections known to us, such as this one:\n",
    "<p>\\b(ustaw(a|ie|y|ę|ą|e|om|ach|ami))\\b</p>\n",
    "then in order to make it case insensitive:\n",
    "<p> \\b((u|U)(s|S)(t|T)(a|A)(w|W)((a|A)|(i|I)(e|E)|(y|Y)|(ę|Ę)|(ą|Ą)|(e|E)|(o|O)(m|M)|(a|A)(c|C)(h|H)|(a|A)(m|M)(i|I)))\\b</p>\n",
    "<p>(\\\\b((u|U)(s|S)(t|T)(a|A)(w|W)((a|A)|(i|I)(e|E)|(y|Y)|(ę|Ę)|(ą|Ą)|(e|E)|(o|O)(m|M)|(a|A)(c|C)(h|H)|(a|A)(m|M)(i|I)))\\\\b)(?=\\s+z dnia\\\\b)\n",
    "</p>\n",
    "<p>(\\\\b((u|U)(s|S)(t|T)(a|A)(w|W)((a|A)|(i|I)(e|E)|(y|Y)|(ę|Ę)|(ą|Ą)|(e|E)|(o|O)(m|M)|(a|A)(c|C)(h|H)|(a|A)(m|M)(i|I)))\\\\b)(?!\\s+z dnia\\\\b)\n",
    "</p>"
   ]
  },
  {
   "cell_type": "code",
   "execution_count": 182,
   "id": "95b4a86e",
   "metadata": {},
   "outputs": [
    {
     "data": {
      "text/plain": [
       "24025"
      ]
     },
     "execution_count": 182,
     "metadata": {},
     "output_type": "execute_result"
    }
   ],
   "source": [
    "#\\\\b((u|U)(s|S)(t|T)(a|A)(w|W)((a|A)|(i|I)(e|E)|(y|Y)|(ę|Ę)|(ą|Ą)|(e|E)|(o|O)(m|M)|(a|A)(c|C)(h|H)|(a|A)(m|M)(i|I)))\\\\b\n",
    "ustawa_regex='\\\\b((u|U)(s|S)(t|T)(a|A)(w|W)((a|A)|(i|I)(e|E)|(y|Y)|(ę|Ę)|(ą|Ą)|(e|E)|(o|O)(m|M)|(a|A)(c|C)(h|H)|(a|A)(m|M)(i|I)))\\\\b'\n",
    "count = count_all(ustawa_regex,data_dict)\n",
    "count"
   ]
  },
  {
   "cell_type": "code",
   "execution_count": 183,
   "id": "680f0b35",
   "metadata": {},
   "outputs": [
    {
     "data": {
      "text/plain": [
       "8101"
      ]
     },
     "execution_count": 183,
     "metadata": {},
     "output_type": "execute_result"
    }
   ],
   "source": [
    "#(\\\\b((u|U)(s|S)(t|T)(a|A)(w|W)((a|A)|(i|I)(e|E)|(y|Y)|(ę|Ę)|(ą|Ą)|(e|E)|(o|O)(m|M)|(a|A)(c|C)(h|H)|(a|A)(m|M)(i|I)))\\\\b)(?=\\s+z dnia\\\\b)\n",
    "ustawa_regex_followed='(\\\\b((u|U)(s|S)(t|T)(a|A)(w|W)((a|A)|(i|I)(e|E)|(y|Y)|(ę|Ę)|(ą|Ą)|(e|E)|(o|O)(m|M)|(a|A)(c|C)(h|H)|(a|A)(m|M)(i|I)))\\\\b)(?=\\s+z dnia\\\\b)'\n",
    "count_followed = count_all(ustawa_regex_followed,data_dict)\n",
    "count_followed"
   ]
  },
  {
   "cell_type": "code",
   "execution_count": 184,
   "id": "0ecc30f6",
   "metadata": {},
   "outputs": [
    {
     "data": {
      "text/plain": [
       "15924"
      ]
     },
     "execution_count": 184,
     "metadata": {},
     "output_type": "execute_result"
    }
   ],
   "source": [
    "#(\\\\b((u|U)(s|S)(t|T)(a|A)(w|W)((a|A)|(i|I)(e|E)|(y|Y)|(ę|Ę)|(ą|Ą)|(e|E)|(o|O)(m|M)|(a|A)(c|C)(h|H)|(a|A)(m|M)(i|I)))\\\\b)(?!\\s+z dnia\\\\b)\n",
    "ustawa_regex_not_followed='(\\\\b((u|U)(s|S)(t|T)(a|A)(w|W)((a|A)|(i|I)(e|E)|(y|Y)|(ę|Ę)|(ą|Ą)|(e|E)|(o|O)(m|M)|(a|A)(c|C)(h|H)|(a|A)(m|M)(i|I)))\\\\b)(?!\\s+z dnia\\\\b)'\n",
    "count_not_followed = count_all(ustawa_regex_not_followed,data_dict)\n",
    "count_not_followed"
   ]
  },
  {
   "cell_type": "code",
   "execution_count": 185,
   "id": "0a459180",
   "metadata": {},
   "outputs": [
    {
     "data": {
      "text/plain": [
       "24025"
      ]
     },
     "execution_count": 185,
     "metadata": {},
     "output_type": "execute_result"
    }
   ],
   "source": [
    "count_followed+count_not_followed"
   ]
  },
  {
   "cell_type": "markdown",
   "id": "f2382859",
   "metadata": {},
   "source": [
    "<p>Number of occurences found in total: 24025</p>\n",
    "<p>Number of occurences followed by 'z dnia': 8101</p>\n",
    "<p>Number of occurences not followed by 'z dnia': 15924</p>\n",
    "<p>Total number of occurences adds up</p>"
   ]
  },
  {
   "cell_type": "code",
   "execution_count": 186,
   "id": "44dbf1d0",
   "metadata": {},
   "outputs": [
    {
     "data": {
      "text/plain": [
       "23275"
      ]
     },
     "execution_count": 186,
     "metadata": {},
     "output_type": "execute_result"
    }
   ],
   "source": [
    "ustawa_regex_change='(?<!o zmianie )(\\\\b((u|U)(s|S)(t|T)(a|A)(w|W)((a|A)|(i|I)(e|E)|(y|Y)|(ę|Ę)|(ą|Ą)|(e|E)|(o|O)(m|M)|(a|A)(c|C)(h|H)|(a|A)(m|M)(i|I)))\\\\b)'\n",
    "count_change = count_all(ustawa_regex_change,data_dict)\n",
    "count_change"
   ]
  },
  {
   "cell_type": "code",
   "execution_count": 187,
   "id": "dc6ffb80",
   "metadata": {},
   "outputs": [
    {
     "data": {
      "image/png": "[encoded data removed]",
      "text/plain": [
       "<Figure size 640x480 with 1 Axes>"
      ]
     },
     "metadata": {},
     "output_type": "display_data"
    }
   ],
   "source": [
    "plt.bar(['Total occurences','Occurences followed by \\'z dnia\\'','Occurences not followed by \\'z dnia\\'','Occurences not following \\'o zmianie\\''], [count,count_followed,count_not_followed,count_change], color ='maroon',\n",
    "        width = 0.4)\n",
    "plt.xticks(rotation = -90)\n",
    "plt.xlabel(\"type of occurence\")\n",
    "plt.ylabel(\"No. of occurences\")\n",
    "plt.title(\"Occurences of word ustawa\")\n",
    "plt.show()"
   ]
  },
  {
   "cell_type": "code",
   "execution_count": null,
   "id": "fb43ab13",
   "metadata": {},
   "outputs": [],
   "source": []
  }
 ],
 "metadata": {
  "kernelspec": {
   "display_name": "Python 3 (ipykernel)",
   "language": "python",
   "name": "python3"
  },
  "language_info": {
   "codemirror_mode": {
    "name": "ipython",
    "version": 3
   },
   "file_extension": ".py",
   "mimetype": "text/x-python",
   "name": "python",
   "nbconvert_exporter": "python",
   "pygments_lexer": "ipython3",
   "version": "3.10.7"
  }
 },
 "nbformat": 4,
 "nbformat_minor": 5
}
