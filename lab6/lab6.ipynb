{
 "cells": [
  {
   "cell_type": "markdown",
   "id": "3a249d99",
   "metadata": {},
   "source": [
    "<h3>Text classification</h3>\n",
    "<p>Konrad Przewłoka</p>"
   ]
  },
  {
   "cell_type": "markdown",
   "id": "65a65a7d",
   "metadata": {},
   "source": [
    "<h4>Imports</h4>"
   ]
  },
  {
   "cell_type": "code",
   "execution_count": 243,
   "id": "4e9cbb85",
   "metadata": {},
   "outputs": [],
   "source": [
    "#!pip install datasets\n",
    "#!pip install transformers\n",
    "#!pip install fasttext_win\n",
    "#!pip install lime\n",
    "from datasets import load_dataset\n",
    "import numpy as np\n",
    "import pandas as pd\n",
    "import transformers\n",
    "import fasttext\n",
    "import lime.lime_text \n",
    "import sklearn\n",
    "import sklearn.naive_bayes\n",
    "import sklearn.metrics\n",
    "import sklearn.pipeline\n",
    "import sklearn.feature_extraction.text\n",
    "from prettytable import PrettyTable"
   ]
  },
  {
   "cell_type": "markdown",
   "id": "49844f00",
   "metadata": {},
   "source": [
    "<h4>Load dataset</h4>\n",
    "<p>Dataset consits of two tasks:</p>\n",
    "<ul>\n",
    "    <li> Task one - binary classification\n",
    "    <li> Task two - multiclass classification\n",
    "</ul>"
   ]
  },
  {
   "cell_type": "code",
   "execution_count": 106,
   "id": "3e7077ea",
   "metadata": {},
   "outputs": [
    {
     "name": "stderr",
     "output_type": "stream",
     "text": [
      "Found cached dataset poleval2019_cyberbullying (C:/Users/KPR/.cache/huggingface/datasets/poleval2019_cyberbullying/task01/1.0.0/ce6060c56dae43c469bab309a7573b86299b0bcc2484e85cfe0ae70b5f770450)\n",
      "100%|██████████| 2/2 [00:00<00:00, 126.38it/s]\n",
      "Found cached dataset poleval2019_cyberbullying (C:/Users/KPR/.cache/huggingface/datasets/poleval2019_cyberbullying/task02/1.0.0/ce6060c56dae43c469bab309a7573b86299b0bcc2484e85cfe0ae70b5f770450)\n",
      "100%|██████████| 2/2 [00:00<00:00, 153.67it/s]\n"
     ]
    }
   ],
   "source": [
    "dataset_task1 = load_dataset(\"poleval2019_cyberbullying\", 'task01')\n",
    "dataset_task2 = load_dataset(\"poleval2019_cyberbullying\", 'task02')"
   ]
  },
  {
   "cell_type": "markdown",
   "id": "e51123a0",
   "metadata": {},
   "source": [
    "<h4>Utility data structures</h4>"
   ]
  },
  {
   "cell_type": "code",
   "execution_count": 107,
   "id": "31d90fc7",
   "metadata": {},
   "outputs": [],
   "source": [
    "class Results:\n",
    "    def __init__(self,task,y_true,Y_pred):\n",
    "        self.task = task\n",
    "        if task == 'task1':\n",
    "            self.accuracy = sklearn.metrics.accuracy_score(y_true,Y_pred)\n",
    "            self.f1 = sklearn.metrics.f1_score(y_true,Y_pred)\n",
    "            self.recall = sklearn.metrics.recall_score(y_true,Y_pred)\n",
    "            self.precision = sklearn.metrics.precision_score(y_true,Y_pred)\n",
    "        if task == 'task2':\n",
    "            self.accuracy = sklearn.metrics.accuracy_score(y_true,Y_pred)\n",
    "            self.recall = sklearn.metrics.recall_score(y_true,Y_pred,average='macro')\n",
    "            self.precision = sklearn.metrics.precision_score(y_true,Y_pred, average='macro')\n",
    "            self.f1_micro = sklearn.metrics.f1_score(y_true,Y_pred,average=\"micro\")\n",
    "            self.f1_macro = sklearn.metrics.f1_score(y_true,Y_pred,average=\"macro\")\n",
    "        \n",
    "classifiers_results={\n",
    "    \"bayesian\":{},\n",
    "    \"fasttext\":{},\n",
    "    \"transformer\":{}\n",
    "}"
   ]
  },
  {
   "cell_type": "markdown",
   "id": "a00a654c",
   "metadata": {},
   "source": [
    "<h4>Bayesian classifier</h4>"
   ]
  },
  {
   "cell_type": "code",
   "execution_count": 108,
   "id": "9d906401",
   "metadata": {},
   "outputs": [
    {
     "data": {
      "text/html": [
       "<style>#sk-container-id-3 {color: black;background-color: white;}#sk-container-id-3 pre{padding: 0;}#sk-container-id-3 div.sk-toggleable {background-color: white;}#sk-container-id-3 label.sk-toggleable__label {cursor: pointer;display: block;width: 100%;margin-bottom: 0;padding: 0.3em;box-sizing: border-box;text-align: center;}#sk-container-id-3 label.sk-toggleable__label-arrow:before {content: \"▸\";float: left;margin-right: 0.25em;color: #696969;}#sk-container-id-3 label.sk-toggleable__label-arrow:hover:before {color: black;}#sk-container-id-3 div.sk-estimator:hover label.sk-toggleable__label-arrow:before {color: black;}#sk-container-id-3 div.sk-toggleable__content {max-height: 0;max-width: 0;overflow: hidden;text-align: left;background-color: #f0f8ff;}#sk-container-id-3 div.sk-toggleable__content pre {margin: 0.2em;color: black;border-radius: 0.25em;background-color: #f0f8ff;}#sk-container-id-3 input.sk-toggleable__control:checked~div.sk-toggleable__content {max-height: 200px;max-width: 100%;overflow: auto;}#sk-container-id-3 input.sk-toggleable__control:checked~label.sk-toggleable__label-arrow:before {content: \"▾\";}#sk-container-id-3 div.sk-estimator input.sk-toggleable__control:checked~label.sk-toggleable__label {background-color: #d4ebff;}#sk-container-id-3 div.sk-label input.sk-toggleable__control:checked~label.sk-toggleable__label {background-color: #d4ebff;}#sk-container-id-3 input.sk-hidden--visually {border: 0;clip: rect(1px 1px 1px 1px);clip: rect(1px, 1px, 1px, 1px);height: 1px;margin: -1px;overflow: hidden;padding: 0;position: absolute;width: 1px;}#sk-container-id-3 div.sk-estimator {font-family: monospace;background-color: #f0f8ff;border: 1px dotted black;border-radius: 0.25em;box-sizing: border-box;margin-bottom: 0.5em;}#sk-container-id-3 div.sk-estimator:hover {background-color: #d4ebff;}#sk-container-id-3 div.sk-parallel-item::after {content: \"\";width: 100%;border-bottom: 1px solid gray;flex-grow: 1;}#sk-container-id-3 div.sk-label:hover label.sk-toggleable__label {background-color: #d4ebff;}#sk-container-id-3 div.sk-serial::before {content: \"\";position: absolute;border-left: 1px solid gray;box-sizing: border-box;top: 0;bottom: 0;left: 50%;z-index: 0;}#sk-container-id-3 div.sk-serial {display: flex;flex-direction: column;align-items: center;background-color: white;padding-right: 0.2em;padding-left: 0.2em;position: relative;}#sk-container-id-3 div.sk-item {position: relative;z-index: 1;}#sk-container-id-3 div.sk-parallel {display: flex;align-items: stretch;justify-content: center;background-color: white;position: relative;}#sk-container-id-3 div.sk-item::before, #sk-container-id-3 div.sk-parallel-item::before {content: \"\";position: absolute;border-left: 1px solid gray;box-sizing: border-box;top: 0;bottom: 0;left: 50%;z-index: -1;}#sk-container-id-3 div.sk-parallel-item {display: flex;flex-direction: column;z-index: 1;position: relative;background-color: white;}#sk-container-id-3 div.sk-parallel-item:first-child::after {align-self: flex-end;width: 50%;}#sk-container-id-3 div.sk-parallel-item:last-child::after {align-self: flex-start;width: 50%;}#sk-container-id-3 div.sk-parallel-item:only-child::after {width: 0;}#sk-container-id-3 div.sk-dashed-wrapped {border: 1px dashed gray;margin: 0 0.4em 0.5em 0.4em;box-sizing: border-box;padding-bottom: 0.4em;background-color: white;}#sk-container-id-3 div.sk-label label {font-family: monospace;font-weight: bold;display: inline-block;line-height: 1.2em;}#sk-container-id-3 div.sk-label-container {text-align: center;}#sk-container-id-3 div.sk-container {/* jupyter's `normalize.less` sets `[hidden] { display: none; }` but bootstrap.min.css set `[hidden] { display: none !important; }` so we also need the `!important` here to be able to override the default hidden behavior on the sphinx rendered scikit-learn.org. See: https://github.com/scikit-learn/scikit-learn/issues/21755 */display: inline-block !important;position: relative;}#sk-container-id-3 div.sk-text-repr-fallback {display: none;}</style><div id=\"sk-container-id-3\" class=\"sk-top-container\"><div class=\"sk-text-repr-fallback\"><pre>GaussianNB()</pre><b>In a Jupyter environment, please rerun this cell to show the HTML representation or trust the notebook. <br />On GitHub, the HTML representation is unable to render, please try loading this page with nbviewer.org.</b></div><div class=\"sk-container\" hidden><div class=\"sk-item\"><div class=\"sk-estimator sk-toggleable\"><input class=\"sk-toggleable__control sk-hidden--visually\" id=\"sk-estimator-id-3\" type=\"checkbox\" checked><label for=\"sk-estimator-id-3\" class=\"sk-toggleable__label sk-toggleable__label-arrow\">GaussianNB</label><div class=\"sk-toggleable__content\"><pre>GaussianNB()</pre></div></div></div></div></div>"
      ],
      "text/plain": [
       "GaussianNB()"
      ]
     },
     "execution_count": 108,
     "metadata": {},
     "output_type": "execute_result"
    }
   ],
   "source": [
    "gnb_task1 = sklearn.naive_bayes.GaussianNB()\n",
    "gnb_task2 = sklearn.naive_bayes.GaussianNB()\n",
    "\n",
    "vectorizer_taks1 = sklearn.feature_extraction.text.TfidfVectorizer()\n",
    "vectorizer_taks2 = sklearn.feature_extraction.text.TfidfVectorizer()\n",
    "vectorizer_taks1.fit(dataset_task1['train']['text'])\n",
    "vectorizer_taks2.fit(dataset_task2['train']['text'])\n",
    "\n",
    "task1_train_tfidf = vectorizer_taks1.transform(dataset_task1['train']['text']).toarray()\n",
    "task1_test_tfidf = vectorizer_taks1.transform(dataset_task1['test']['text']).toarray()\n",
    "task2_train_tfidf = vectorizer_taks2.transform(dataset_task2['train']['text']).toarray()\n",
    "task2_test_tfidf = vectorizer_taks2.transform(dataset_task2['test']['text']).toarray()\n",
    "\n",
    "gnb_task1.fit(task1_train_tfidf,dataset_task1['train']['label'])\n",
    "gnb_task2.fit(task2_train_tfidf,dataset_task2['train']['label'])"
   ]
  },
  {
   "cell_type": "markdown",
   "id": "10a1b016",
   "metadata": {},
   "source": [
    "<h4>Bayesian classifier predictions</h4>"
   ]
  },
  {
   "cell_type": "code",
   "execution_count": 350,
   "id": "fdcc2140",
   "metadata": {},
   "outputs": [],
   "source": [
    "task1_pred = gnb_task1.predict(task1_test_tfidf)\n",
    "task2_pred = gnb_task2.predict(task2_test_tfidf)\n",
    "classifiers_results['bayesian']['task1']=Results('task1',task1_pred,dataset_task1['test']['label'])\n",
    "classifiers_results['bayesian']['task2']=Results('task2',task2_pred,dataset_task2['test']['label'])"
   ]
  },
  {
   "cell_type": "markdown",
   "id": "e0ae240d",
   "metadata": {},
   "source": [
    "<h4>Fasttext classifier</h4>"
   ]
  },
  {
   "cell_type": "code",
   "execution_count": 110,
   "id": "3d240f45",
   "metadata": {},
   "outputs": [],
   "source": [
    "def save_as_fasttext_input_train(dataset, file):\n",
    "    with open(file, \"w\",encoding=\"utf-8\") as f:\n",
    "        for label, text in zip(dataset['label'], dataset['text']):\n",
    "            f.write(f\"__label__{label} {text}\\n\")\n",
    "\n",
    "save_as_fasttext_input_train(dataset_task1[\"train\"],'task1_train.txt')\n",
    "save_as_fasttext_input_train(dataset_task1[\"test\"],'task1_test.txt')\n",
    "save_as_fasttext_input_train(dataset_task2[\"train\"],'task2_train.txt')\n",
    "save_as_fasttext_input_train(dataset_task2[\"test\"],'task2_test.txt')\n",
    "\n",
    "model_task1 = fasttext.supervised(\"task1_train.txt\", 'model1')\n",
    "model_task2 = fasttext.supervised(\"task2_train.txt\", 'model2')\n",
    "\n",
    "def flatten(l):\n",
    "    return [int(item) for sublist in l for item in sublist]\n",
    "\n"
   ]
  },
  {
   "cell_type": "markdown",
   "id": "4634d842",
   "metadata": {},
   "source": [
    "<h4>Fasttest classifier predictions</h4>"
   ]
  },
  {
   "cell_type": "code",
   "execution_count": 349,
   "id": "06ee4c53",
   "metadata": {},
   "outputs": [],
   "source": [
    "task1_pred_fast = np.array(flatten(model_task1.predict(dataset_task1[\"test\"]['text'])))\n",
    "task2_pred_fast = np.array(flatten(model_task2.predict(dataset_task2[\"test\"]['text'])))\n",
    "classifiers_results['fasttext']['task1']=Results('task1',task1_pred_fast,dataset_task1['test']['label'])\n",
    "classifiers_results['fasttext']['task2']=Results('task2',task2_pred_fast,dataset_task2['test']['label'])"
   ]
  },
  {
   "cell_type": "markdown",
   "id": "6afe0763",
   "metadata": {},
   "source": [
    "<h4>Transformer classifier </h4>"
   ]
  },
  {
   "cell_type": "code",
   "execution_count": 205,
   "id": "8063a4f4",
   "metadata": {
    "scrolled": true
   },
   "outputs": [
    {
     "name": "stderr",
     "output_type": "stream",
     "text": [
      "loading configuration file config.json from cache at C:\\Users\\KPR/.cache\\huggingface\\hub\\models--allegro--herbert-base-cased\\snapshots\\50e33e0567be0c0b313832314c586e3df0dc2297\\config.json\n",
      "Model config BertConfig {\n",
      "  \"_name_or_path\": \"allegro/herbert-base-cased\",\n",
      "  \"architectures\": [\n",
      "    \"BertModel\"\n",
      "  ],\n",
      "  \"attention_probs_dropout_prob\": 0.1,\n",
      "  \"classifier_dropout\": null,\n",
      "  \"hidden_act\": \"gelu\",\n",
      "  \"hidden_dropout_prob\": 0.1,\n",
      "  \"hidden_size\": 768,\n",
      "  \"initializer_range\": 0.02,\n",
      "  \"intermediate_size\": 3072,\n",
      "  \"layer_norm_eps\": 1e-12,\n",
      "  \"max_position_embeddings\": 514,\n",
      "  \"model_type\": \"bert\",\n",
      "  \"num_attention_heads\": 12,\n",
      "  \"num_hidden_layers\": 12,\n",
      "  \"pad_token_id\": 1,\n",
      "  \"position_embedding_type\": \"absolute\",\n",
      "  \"tokenizer_class\": \"HerbertTokenizerFast\",\n",
      "  \"transformers_version\": \"4.24.0\",\n",
      "  \"type_vocab_size\": 2,\n",
      "  \"use_cache\": true,\n",
      "  \"vocab_size\": 50000\n",
      "}\n",
      "\n",
      "loading file vocab.json from cache at C:\\Users\\KPR/.cache\\huggingface\\hub\\models--allegro--herbert-base-cased\\snapshots\\50e33e0567be0c0b313832314c586e3df0dc2297\\vocab.json\n",
      "loading file merges.txt from cache at C:\\Users\\KPR/.cache\\huggingface\\hub\\models--allegro--herbert-base-cased\\snapshots\\50e33e0567be0c0b313832314c586e3df0dc2297\\merges.txt\n",
      "loading file tokenizer.json from cache at None\n",
      "loading file added_tokens.json from cache at None\n",
      "loading file special_tokens_map.json from cache at C:\\Users\\KPR/.cache\\huggingface\\hub\\models--allegro--herbert-base-cased\\snapshots\\50e33e0567be0c0b313832314c586e3df0dc2297\\special_tokens_map.json\n",
      "loading file tokenizer_config.json from cache at C:\\Users\\KPR/.cache\\huggingface\\hub\\models--allegro--herbert-base-cased\\snapshots\\50e33e0567be0c0b313832314c586e3df0dc2297\\tokenizer_config.json\n",
      "loading configuration file config.json from cache at C:\\Users\\KPR/.cache\\huggingface\\hub\\models--allegro--herbert-base-cased\\snapshots\\50e33e0567be0c0b313832314c586e3df0dc2297\\config.json\n",
      "Model config BertConfig {\n",
      "  \"_name_or_path\": \"allegro/herbert-base-cased\",\n",
      "  \"architectures\": [\n",
      "    \"BertModel\"\n",
      "  ],\n",
      "  \"attention_probs_dropout_prob\": 0.1,\n",
      "  \"classifier_dropout\": null,\n",
      "  \"hidden_act\": \"gelu\",\n",
      "  \"hidden_dropout_prob\": 0.1,\n",
      "  \"hidden_size\": 768,\n",
      "  \"initializer_range\": 0.02,\n",
      "  \"intermediate_size\": 3072,\n",
      "  \"layer_norm_eps\": 1e-12,\n",
      "  \"max_position_embeddings\": 514,\n",
      "  \"model_type\": \"bert\",\n",
      "  \"num_attention_heads\": 12,\n",
      "  \"num_hidden_layers\": 12,\n",
      "  \"pad_token_id\": 1,\n",
      "  \"position_embedding_type\": \"absolute\",\n",
      "  \"tokenizer_class\": \"HerbertTokenizerFast\",\n",
      "  \"transformers_version\": \"4.24.0\",\n",
      "  \"type_vocab_size\": 2,\n",
      "  \"use_cache\": true,\n",
      "  \"vocab_size\": 50000\n",
      "}\n",
      "\n",
      "loading configuration file config.json from cache at C:\\Users\\KPR/.cache\\huggingface\\hub\\models--allegro--herbert-base-cased\\snapshots\\50e33e0567be0c0b313832314c586e3df0dc2297\\config.json\n",
      "Model config BertConfig {\n",
      "  \"_name_or_path\": \"allegro/herbert-base-cased\",\n",
      "  \"architectures\": [\n",
      "    \"BertModel\"\n",
      "  ],\n",
      "  \"attention_probs_dropout_prob\": 0.1,\n",
      "  \"classifier_dropout\": null,\n",
      "  \"hidden_act\": \"gelu\",\n",
      "  \"hidden_dropout_prob\": 0.1,\n",
      "  \"hidden_size\": 768,\n",
      "  \"initializer_range\": 0.02,\n",
      "  \"intermediate_size\": 3072,\n",
      "  \"layer_norm_eps\": 1e-12,\n",
      "  \"max_position_embeddings\": 514,\n",
      "  \"model_type\": \"bert\",\n",
      "  \"num_attention_heads\": 12,\n",
      "  \"num_hidden_layers\": 12,\n",
      "  \"pad_token_id\": 1,\n",
      "  \"position_embedding_type\": \"absolute\",\n",
      "  \"tokenizer_class\": \"HerbertTokenizerFast\",\n",
      "  \"transformers_version\": \"4.24.0\",\n",
      "  \"type_vocab_size\": 2,\n",
      "  \"use_cache\": true,\n",
      "  \"vocab_size\": 50000\n",
      "}\n",
      "\n",
      "Loading cached processed dataset at C:/Users/KPR/.cache/huggingface/datasets/poleval2019_cyberbullying/task01/1.0.0/ce6060c56dae43c469bab309a7573b86299b0bcc2484e85cfe0ae70b5f770450\\cache-ba2ffb65f3840484.arrow\n",
      "Loading cached processed dataset at C:/Users/KPR/.cache/huggingface/datasets/poleval2019_cyberbullying/task01/1.0.0/ce6060c56dae43c469bab309a7573b86299b0bcc2484e85cfe0ae70b5f770450\\cache-8ab444895e8cd7d2.arrow\n",
      "loading configuration file config.json from cache at C:\\Users\\KPR/.cache\\huggingface\\hub\\models--allegro--herbert-base-cased\\snapshots\\50e33e0567be0c0b313832314c586e3df0dc2297\\config.json\n",
      "Model config BertConfig {\n",
      "  \"_name_or_path\": \"allegro/herbert-base-cased\",\n",
      "  \"architectures\": [\n",
      "    \"BertModel\"\n",
      "  ],\n",
      "  \"attention_probs_dropout_prob\": 0.1,\n",
      "  \"classifier_dropout\": null,\n",
      "  \"hidden_act\": \"gelu\",\n",
      "  \"hidden_dropout_prob\": 0.1,\n",
      "  \"hidden_size\": 768,\n",
      "  \"initializer_range\": 0.02,\n",
      "  \"intermediate_size\": 3072,\n",
      "  \"layer_norm_eps\": 1e-12,\n",
      "  \"max_position_embeddings\": 514,\n",
      "  \"model_type\": \"bert\",\n",
      "  \"num_attention_heads\": 12,\n",
      "  \"num_hidden_layers\": 12,\n",
      "  \"pad_token_id\": 1,\n",
      "  \"position_embedding_type\": \"absolute\",\n",
      "  \"tokenizer_class\": \"HerbertTokenizerFast\",\n",
      "  \"transformers_version\": \"4.24.0\",\n",
      "  \"type_vocab_size\": 2,\n",
      "  \"use_cache\": true,\n",
      "  \"vocab_size\": 50000\n",
      "}\n",
      "\n",
      "loading weights file pytorch_model.bin from cache at C:\\Users\\KPR/.cache\\huggingface\\hub\\models--allegro--herbert-base-cased\\snapshots\\50e33e0567be0c0b313832314c586e3df0dc2297\\pytorch_model.bin\n",
      "Some weights of the model checkpoint at allegro/herbert-base-cased were not used when initializing BertForSequenceClassification: ['cls.predictions.decoder.bias', 'cls.predictions.transform.LayerNorm.bias', 'cls.predictions.transform.LayerNorm.weight', 'cls.sso.sso_relationship.weight', 'cls.sso.sso_relationship.bias', 'cls.predictions.transform.dense.bias', 'cls.predictions.bias', 'cls.predictions.transform.dense.weight', 'cls.predictions.decoder.weight']\n",
      "- This IS expected if you are initializing BertForSequenceClassification from the checkpoint of a model trained on another task or with another architecture (e.g. initializing a BertForSequenceClassification model from a BertForPreTraining model).\n",
      "- This IS NOT expected if you are initializing BertForSequenceClassification from the checkpoint of a model that you expect to be exactly identical (initializing a BertForSequenceClassification model from a BertForSequenceClassification model).\n",
      "Some weights of BertForSequenceClassification were not initialized from the model checkpoint at allegro/herbert-base-cased and are newly initialized: ['classifier.weight', 'classifier.bias']\n",
      "You should probably TRAIN this model on a down-stream task to be able to use it for predictions and inference.\n",
      "PyTorch: setting up devices\n",
      "The default value for the training argument `--report_to` will change in v5 (from all installed integrations to none). In v5, you will need to use `--report_to all` to get the same behavior as now. You should start updating your code and make this info disappear :-).\n",
      "The following columns in the training set don't have a corresponding argument in `BertForSequenceClassification.forward` and have been ignored: text. If text are not expected by `BertForSequenceClassification.forward`,  you can safely ignore this message.\n",
      "C:\\Users\\KPR\\AppData\\Local\\Programs\\Python\\Python310\\lib\\site-packages\\transformers\\optimization.py:306: FutureWarning: This implementation of AdamW is deprecated and will be removed in a future version. Use the PyTorch implementation torch.optim.AdamW instead, or set `no_deprecation_warning=True` to disable this warning\n",
      "  warnings.warn(\n",
      "***** Running training *****\n",
      "  Num examples = 10041\n",
      "  Num Epochs = 3\n",
      "  Instantaneous batch size per device = 16\n",
      "  Total train batch size (w. parallel, distributed & accumulation) = 16\n",
      "  Gradient Accumulation steps = 1\n",
      "  Total optimization steps = 1884\n",
      "  Number of trainable parameters = 124444418\n",
      "You're using a HerbertTokenizerFast tokenizer. Please note that with a fast tokenizer, using the `__call__` method is faster than using a method to encode the text followed by a call to the `pad` method to get a padded encoding.\n"
     ]
    },
    {
     "data": {
      "text/html": [
       "\n",
       "    <div>\n",
       "      \n",
       "      <progress value='1884' max='1884' style='width:300px; height:20px; vertical-align: middle;'></progress>\n",
       "      [1884/1884 1:08:33, Epoch 3/3]\n",
       "    </div>\n",
       "    <table border=\"1\" class=\"dataframe\">\n",
       "  <thead>\n",
       " <tr style=\"text-align: left;\">\n",
       "      <th>Epoch</th>\n",
       "      <th>Training Loss</th>\n",
       "      <th>Validation Loss</th>\n",
       "    </tr>\n",
       "  </thead>\n",
       "  <tbody>\n",
       "    <tr>\n",
       "      <td>1</td>\n",
       "      <td>0.237600</td>\n",
       "      <td>0.349713</td>\n",
       "    </tr>\n",
       "    <tr>\n",
       "      <td>2</td>\n",
       "      <td>0.174900</td>\n",
       "      <td>0.391852</td>\n",
       "    </tr>\n",
       "    <tr>\n",
       "      <td>3</td>\n",
       "      <td>0.135200</td>\n",
       "      <td>0.409864</td>\n",
       "    </tr>\n",
       "  </tbody>\n",
       "</table><p>"
      ],
      "text/plain": [
       "<IPython.core.display.HTML object>"
      ]
     },
     "metadata": {},
     "output_type": "display_data"
    },
    {
     "name": "stderr",
     "output_type": "stream",
     "text": [
      "Saving model checkpoint to ./results_task1\\checkpoint-500\n",
      "Configuration saved in ./results_task1\\checkpoint-500\\config.json\n",
      "Model weights saved in ./results_task1\\checkpoint-500\\pytorch_model.bin\n",
      "tokenizer config file saved in ./results_task1\\checkpoint-500\\tokenizer_config.json\n",
      "Special tokens file saved in ./results_task1\\checkpoint-500\\special_tokens_map.json\n",
      "The following columns in the evaluation set don't have a corresponding argument in `BertForSequenceClassification.forward` and have been ignored: text. If text are not expected by `BertForSequenceClassification.forward`,  you can safely ignore this message.\n",
      "***** Running Evaluation *****\n",
      "  Num examples = 1000\n",
      "  Batch size = 16\n",
      "Saving model checkpoint to ./results_task1\\checkpoint-1000\n",
      "Configuration saved in ./results_task1\\checkpoint-1000\\config.json\n",
      "Model weights saved in ./results_task1\\checkpoint-1000\\pytorch_model.bin\n",
      "tokenizer config file saved in ./results_task1\\checkpoint-1000\\tokenizer_config.json\n",
      "Special tokens file saved in ./results_task1\\checkpoint-1000\\special_tokens_map.json\n",
      "The following columns in the evaluation set don't have a corresponding argument in `BertForSequenceClassification.forward` and have been ignored: text. If text are not expected by `BertForSequenceClassification.forward`,  you can safely ignore this message.\n",
      "***** Running Evaluation *****\n",
      "  Num examples = 1000\n",
      "  Batch size = 16\n",
      "Saving model checkpoint to ./results_task1\\checkpoint-1500\n",
      "Configuration saved in ./results_task1\\checkpoint-1500\\config.json\n",
      "Model weights saved in ./results_task1\\checkpoint-1500\\pytorch_model.bin\n",
      "tokenizer config file saved in ./results_task1\\checkpoint-1500\\tokenizer_config.json\n",
      "Special tokens file saved in ./results_task1\\checkpoint-1500\\special_tokens_map.json\n",
      "The following columns in the evaluation set don't have a corresponding argument in `BertForSequenceClassification.forward` and have been ignored: text. If text are not expected by `BertForSequenceClassification.forward`,  you can safely ignore this message.\n",
      "***** Running Evaluation *****\n",
      "  Num examples = 1000\n",
      "  Batch size = 16\n",
      "\n",
      "\n",
      "Training completed. Do not forget to share your model on huggingface.co/models =)\n",
      "\n",
      "\n",
      "Configuration saved in task1_model\\config.json\n",
      "Model weights saved in task1_model\\pytorch_model.bin\n"
     ]
    }
   ],
   "source": [
    "tokenizer = transformers.AutoTokenizer.from_pretrained(\"allegro/herbert-base-cased\")\n",
    "task1_tokenized = dataset_task1.map(lambda partition: tokenizer(partition[\"text\"], truncation=True), batched=True)\n",
    "task1_model = transformers.AutoModelForSequenceClassification.from_pretrained(\"allegro/herbert-base-cased\", num_labels=2)\n",
    "    \n",
    "task1_args = transformers.TrainingArguments(\n",
    "        output_dir='./results_task1',\n",
    "        learning_rate=0.00002,\n",
    "        num_train_epochs=3,\n",
    "        weight_decay=0.01,\n",
    "        evaluation_strategy=\"epoch\",\n",
    "        per_device_train_batch_size=16,\n",
    "        per_device_eval_batch_size=16\n",
    "    )\n",
    "task1_trainer = transformers.Trainer(\n",
    "        model=task1_model,\n",
    "        args=task1_args,\n",
    "        train_dataset=task1_tokenized[\"train\"],\n",
    "        eval_dataset=task1_tokenized[\"test\"],\n",
    "        tokenizer=tokenizer,\n",
    "        data_collator=transformers.DataCollatorWithPadding(tokenizer=tokenizer)\n",
    "    )\n",
    "\n",
    "task1_trainer.train()\n",
    "task1_model.save_pretrained('task1_model')"
   ]
  },
  {
   "cell_type": "code",
   "execution_count": 202,
   "id": "97ce0072",
   "metadata": {},
   "outputs": [
    {
     "name": "stderr",
     "output_type": "stream",
     "text": [
      "loading configuration file config.json from cache at C:\\Users\\KPR/.cache\\huggingface\\hub\\models--allegro--herbert-base-cased\\snapshots\\50e33e0567be0c0b313832314c586e3df0dc2297\\config.json\n",
      "Model config BertConfig {\n",
      "  \"_name_or_path\": \"allegro/herbert-base-cased\",\n",
      "  \"architectures\": [\n",
      "    \"BertModel\"\n",
      "  ],\n",
      "  \"attention_probs_dropout_prob\": 0.1,\n",
      "  \"classifier_dropout\": null,\n",
      "  \"hidden_act\": \"gelu\",\n",
      "  \"hidden_dropout_prob\": 0.1,\n",
      "  \"hidden_size\": 768,\n",
      "  \"initializer_range\": 0.02,\n",
      "  \"intermediate_size\": 3072,\n",
      "  \"layer_norm_eps\": 1e-12,\n",
      "  \"max_position_embeddings\": 514,\n",
      "  \"model_type\": \"bert\",\n",
      "  \"num_attention_heads\": 12,\n",
      "  \"num_hidden_layers\": 12,\n",
      "  \"pad_token_id\": 1,\n",
      "  \"position_embedding_type\": \"absolute\",\n",
      "  \"tokenizer_class\": \"HerbertTokenizerFast\",\n",
      "  \"transformers_version\": \"4.24.0\",\n",
      "  \"type_vocab_size\": 2,\n",
      "  \"use_cache\": true,\n",
      "  \"vocab_size\": 50000\n",
      "}\n",
      "\n",
      "loading file vocab.json from cache at C:\\Users\\KPR/.cache\\huggingface\\hub\\models--allegro--herbert-base-cased\\snapshots\\50e33e0567be0c0b313832314c586e3df0dc2297\\vocab.json\n",
      "loading file merges.txt from cache at C:\\Users\\KPR/.cache\\huggingface\\hub\\models--allegro--herbert-base-cased\\snapshots\\50e33e0567be0c0b313832314c586e3df0dc2297\\merges.txt\n",
      "loading file tokenizer.json from cache at None\n",
      "loading file added_tokens.json from cache at None\n",
      "loading file special_tokens_map.json from cache at C:\\Users\\KPR/.cache\\huggingface\\hub\\models--allegro--herbert-base-cased\\snapshots\\50e33e0567be0c0b313832314c586e3df0dc2297\\special_tokens_map.json\n",
      "loading file tokenizer_config.json from cache at C:\\Users\\KPR/.cache\\huggingface\\hub\\models--allegro--herbert-base-cased\\snapshots\\50e33e0567be0c0b313832314c586e3df0dc2297\\tokenizer_config.json\n",
      "loading configuration file config.json from cache at C:\\Users\\KPR/.cache\\huggingface\\hub\\models--allegro--herbert-base-cased\\snapshots\\50e33e0567be0c0b313832314c586e3df0dc2297\\config.json\n",
      "Model config BertConfig {\n",
      "  \"_name_or_path\": \"allegro/herbert-base-cased\",\n",
      "  \"architectures\": [\n",
      "    \"BertModel\"\n",
      "  ],\n",
      "  \"attention_probs_dropout_prob\": 0.1,\n",
      "  \"classifier_dropout\": null,\n",
      "  \"hidden_act\": \"gelu\",\n",
      "  \"hidden_dropout_prob\": 0.1,\n",
      "  \"hidden_size\": 768,\n",
      "  \"initializer_range\": 0.02,\n",
      "  \"intermediate_size\": 3072,\n",
      "  \"layer_norm_eps\": 1e-12,\n",
      "  \"max_position_embeddings\": 514,\n",
      "  \"model_type\": \"bert\",\n",
      "  \"num_attention_heads\": 12,\n",
      "  \"num_hidden_layers\": 12,\n",
      "  \"pad_token_id\": 1,\n",
      "  \"position_embedding_type\": \"absolute\",\n",
      "  \"tokenizer_class\": \"HerbertTokenizerFast\",\n",
      "  \"transformers_version\": \"4.24.0\",\n",
      "  \"type_vocab_size\": 2,\n",
      "  \"use_cache\": true,\n",
      "  \"vocab_size\": 50000\n",
      "}\n",
      "\n",
      "loading configuration file config.json from cache at C:\\Users\\KPR/.cache\\huggingface\\hub\\models--allegro--herbert-base-cased\\snapshots\\50e33e0567be0c0b313832314c586e3df0dc2297\\config.json\n",
      "Model config BertConfig {\n",
      "  \"_name_or_path\": \"allegro/herbert-base-cased\",\n",
      "  \"architectures\": [\n",
      "    \"BertModel\"\n",
      "  ],\n",
      "  \"attention_probs_dropout_prob\": 0.1,\n",
      "  \"classifier_dropout\": null,\n",
      "  \"hidden_act\": \"gelu\",\n",
      "  \"hidden_dropout_prob\": 0.1,\n",
      "  \"hidden_size\": 768,\n",
      "  \"initializer_range\": 0.02,\n",
      "  \"intermediate_size\": 3072,\n",
      "  \"layer_norm_eps\": 1e-12,\n",
      "  \"max_position_embeddings\": 514,\n",
      "  \"model_type\": \"bert\",\n",
      "  \"num_attention_heads\": 12,\n",
      "  \"num_hidden_layers\": 12,\n",
      "  \"pad_token_id\": 1,\n",
      "  \"position_embedding_type\": \"absolute\",\n",
      "  \"tokenizer_class\": \"HerbertTokenizerFast\",\n",
      "  \"transformers_version\": \"4.24.0\",\n",
      "  \"type_vocab_size\": 2,\n",
      "  \"use_cache\": true,\n",
      "  \"vocab_size\": 50000\n",
      "}\n",
      "\n",
      "Loading cached processed dataset at C:/Users/KPR/.cache/huggingface/datasets/poleval2019_cyberbullying/task02/1.0.0/ce6060c56dae43c469bab309a7573b86299b0bcc2484e85cfe0ae70b5f770450\\cache-4649687b9180e759.arrow\n",
      "Loading cached processed dataset at C:/Users/KPR/.cache/huggingface/datasets/poleval2019_cyberbullying/task02/1.0.0/ce6060c56dae43c469bab309a7573b86299b0bcc2484e85cfe0ae70b5f770450\\cache-3fec7f8183cc6136.arrow\n",
      "loading configuration file config.json from cache at C:\\Users\\KPR/.cache\\huggingface\\hub\\models--allegro--herbert-base-cased\\snapshots\\50e33e0567be0c0b313832314c586e3df0dc2297\\config.json\n",
      "Model config BertConfig {\n",
      "  \"_name_or_path\": \"allegro/herbert-base-cased\",\n",
      "  \"architectures\": [\n",
      "    \"BertModel\"\n",
      "  ],\n",
      "  \"attention_probs_dropout_prob\": 0.1,\n",
      "  \"classifier_dropout\": null,\n",
      "  \"hidden_act\": \"gelu\",\n",
      "  \"hidden_dropout_prob\": 0.1,\n",
      "  \"hidden_size\": 768,\n",
      "  \"id2label\": {\n",
      "    \"0\": \"LABEL_0\",\n",
      "    \"1\": \"LABEL_1\",\n",
      "    \"2\": \"LABEL_2\"\n",
      "  },\n",
      "  \"initializer_range\": 0.02,\n",
      "  \"intermediate_size\": 3072,\n",
      "  \"label2id\": {\n",
      "    \"LABEL_0\": 0,\n",
      "    \"LABEL_1\": 1,\n",
      "    \"LABEL_2\": 2\n",
      "  },\n",
      "  \"layer_norm_eps\": 1e-12,\n",
      "  \"max_position_embeddings\": 514,\n",
      "  \"model_type\": \"bert\",\n",
      "  \"num_attention_heads\": 12,\n",
      "  \"num_hidden_layers\": 12,\n",
      "  \"pad_token_id\": 1,\n",
      "  \"position_embedding_type\": \"absolute\",\n",
      "  \"tokenizer_class\": \"HerbertTokenizerFast\",\n",
      "  \"transformers_version\": \"4.24.0\",\n",
      "  \"type_vocab_size\": 2,\n",
      "  \"use_cache\": true,\n",
      "  \"vocab_size\": 50000\n",
      "}\n",
      "\n",
      "loading weights file pytorch_model.bin from cache at C:\\Users\\KPR/.cache\\huggingface\\hub\\models--allegro--herbert-base-cased\\snapshots\\50e33e0567be0c0b313832314c586e3df0dc2297\\pytorch_model.bin\n",
      "Some weights of the model checkpoint at allegro/herbert-base-cased were not used when initializing BertForSequenceClassification: ['cls.predictions.decoder.bias', 'cls.predictions.transform.LayerNorm.bias', 'cls.predictions.transform.LayerNorm.weight', 'cls.sso.sso_relationship.weight', 'cls.sso.sso_relationship.bias', 'cls.predictions.transform.dense.bias', 'cls.predictions.bias', 'cls.predictions.transform.dense.weight', 'cls.predictions.decoder.weight']\n",
      "- This IS expected if you are initializing BertForSequenceClassification from the checkpoint of a model trained on another task or with another architecture (e.g. initializing a BertForSequenceClassification model from a BertForPreTraining model).\n",
      "- This IS NOT expected if you are initializing BertForSequenceClassification from the checkpoint of a model that you expect to be exactly identical (initializing a BertForSequenceClassification model from a BertForSequenceClassification model).\n",
      "Some weights of BertForSequenceClassification were not initialized from the model checkpoint at allegro/herbert-base-cased and are newly initialized: ['classifier.weight', 'classifier.bias']\n",
      "You should probably TRAIN this model on a down-stream task to be able to use it for predictions and inference.\n",
      "PyTorch: setting up devices\n",
      "The default value for the training argument `--report_to` will change in v5 (from all installed integrations to none). In v5, you will need to use `--report_to all` to get the same behavior as now. You should start updating your code and make this info disappear :-).\n",
      "The following columns in the training set don't have a corresponding argument in `BertForSequenceClassification.forward` and have been ignored: text. If text are not expected by `BertForSequenceClassification.forward`,  you can safely ignore this message.\n",
      "C:\\Users\\KPR\\AppData\\Local\\Programs\\Python\\Python310\\lib\\site-packages\\transformers\\optimization.py:306: FutureWarning: This implementation of AdamW is deprecated and will be removed in a future version. Use the PyTorch implementation torch.optim.AdamW instead, or set `no_deprecation_warning=True` to disable this warning\n",
      "  warnings.warn(\n",
      "***** Running training *****\n",
      "  Num examples = 10041\n",
      "  Num Epochs = 3\n",
      "  Instantaneous batch size per device = 16\n",
      "  Total train batch size (w. parallel, distributed & accumulation) = 16\n",
      "  Gradient Accumulation steps = 1\n",
      "  Total optimization steps = 1884\n",
      "  Number of trainable parameters = 124445187\n",
      "You're using a HerbertTokenizerFast tokenizer. Please note that with a fast tokenizer, using the `__call__` method is faster than using a method to encode the text followed by a call to the `pad` method to get a padded encoding.\n"
     ]
    },
    {
     "data": {
      "text/html": [
       "\n",
       "    <div>\n",
       "      \n",
       "      <progress value='1884' max='1884' style='width:300px; height:20px; vertical-align: middle;'></progress>\n",
       "      [1884/1884 1:09:12, Epoch 3/3]\n",
       "    </div>\n",
       "    <table border=\"1\" class=\"dataframe\">\n",
       "  <thead>\n",
       " <tr style=\"text-align: left;\">\n",
       "      <th>Epoch</th>\n",
       "      <th>Training Loss</th>\n",
       "      <th>Validation Loss</th>\n",
       "    </tr>\n",
       "  </thead>\n",
       "  <tbody>\n",
       "    <tr>\n",
       "      <td>1</td>\n",
       "      <td>0.306400</td>\n",
       "      <td>0.407738</td>\n",
       "    </tr>\n",
       "    <tr>\n",
       "      <td>2</td>\n",
       "      <td>0.220400</td>\n",
       "      <td>0.473807</td>\n",
       "    </tr>\n",
       "    <tr>\n",
       "      <td>3</td>\n",
       "      <td>0.177300</td>\n",
       "      <td>0.427350</td>\n",
       "    </tr>\n",
       "  </tbody>\n",
       "</table><p>"
      ],
      "text/plain": [
       "<IPython.core.display.HTML object>"
      ]
     },
     "metadata": {},
     "output_type": "display_data"
    },
    {
     "name": "stderr",
     "output_type": "stream",
     "text": [
      "Saving model checkpoint to ./results_task2\\checkpoint-500\n",
      "Configuration saved in ./results_task2\\checkpoint-500\\config.json\n",
      "Model weights saved in ./results_task2\\checkpoint-500\\pytorch_model.bin\n",
      "tokenizer config file saved in ./results_task2\\checkpoint-500\\tokenizer_config.json\n",
      "Special tokens file saved in ./results_task2\\checkpoint-500\\special_tokens_map.json\n",
      "The following columns in the evaluation set don't have a corresponding argument in `BertForSequenceClassification.forward` and have been ignored: text. If text are not expected by `BertForSequenceClassification.forward`,  you can safely ignore this message.\n",
      "***** Running Evaluation *****\n",
      "  Num examples = 1000\n",
      "  Batch size = 16\n",
      "Saving model checkpoint to ./results_task2\\checkpoint-1000\n",
      "Configuration saved in ./results_task2\\checkpoint-1000\\config.json\n",
      "Model weights saved in ./results_task2\\checkpoint-1000\\pytorch_model.bin\n",
      "tokenizer config file saved in ./results_task2\\checkpoint-1000\\tokenizer_config.json\n",
      "Special tokens file saved in ./results_task2\\checkpoint-1000\\special_tokens_map.json\n",
      "The following columns in the evaluation set don't have a corresponding argument in `BertForSequenceClassification.forward` and have been ignored: text. If text are not expected by `BertForSequenceClassification.forward`,  you can safely ignore this message.\n",
      "***** Running Evaluation *****\n",
      "  Num examples = 1000\n",
      "  Batch size = 16\n",
      "Saving model checkpoint to ./results_task2\\checkpoint-1500\n",
      "Configuration saved in ./results_task2\\checkpoint-1500\\config.json\n",
      "Model weights saved in ./results_task2\\checkpoint-1500\\pytorch_model.bin\n",
      "tokenizer config file saved in ./results_task2\\checkpoint-1500\\tokenizer_config.json\n",
      "Special tokens file saved in ./results_task2\\checkpoint-1500\\special_tokens_map.json\n",
      "The following columns in the evaluation set don't have a corresponding argument in `BertForSequenceClassification.forward` and have been ignored: text. If text are not expected by `BertForSequenceClassification.forward`,  you can safely ignore this message.\n",
      "***** Running Evaluation *****\n",
      "  Num examples = 1000\n",
      "  Batch size = 16\n",
      "\n",
      "\n",
      "Training completed. Do not forget to share your model on huggingface.co/models =)\n",
      "\n",
      "\n",
      "Configuration saved in task2_model\\config.json\n",
      "Model weights saved in task2_model\\pytorch_model.bin\n"
     ]
    }
   ],
   "source": [
    "tokenizer_task2 = transformers.AutoTokenizer.from_pretrained(\"allegro/herbert-base-cased\")\n",
    "task2_tokenized = dataset_task2.map(lambda partition: tokenizer_task2(partition[\"text\"], truncation=True), batched=True)\n",
    "task2_model = transformers.AutoModelForSequenceClassification.from_pretrained(\"allegro/herbert-base-cased\", num_labels=3)\n",
    "    \n",
    "task2_args = transformers.TrainingArguments(\n",
    "        output_dir='./results_task2',\n",
    "        learning_rate=0.00002,\n",
    "        num_train_epochs=3,\n",
    "        weight_decay=0.01,\n",
    "        evaluation_strategy=\"epoch\",\n",
    "        per_device_train_batch_size=16,\n",
    "        per_device_eval_batch_size=16\n",
    "    )\n",
    "task2_trainer = transformers.Trainer(\n",
    "        model=task2_model,\n",
    "        args=task2_args,\n",
    "        train_dataset=task2_tokenized[\"train\"],\n",
    "        eval_dataset=task2_tokenized[\"test\"],\n",
    "        tokenizer=tokenizer_task2,\n",
    "        data_collator=transformers.DataCollatorWithPadding(tokenizer=tokenizer_task2)\n",
    "    )\n",
    "\n",
    "task2_trainer.train()\n",
    "task2_model.save_pretrained('task2_model')"
   ]
  },
  {
   "cell_type": "markdown",
   "id": "4a8536a4",
   "metadata": {},
   "source": [
    "<h4>Transformer classifier predictions</h4>"
   ]
  },
  {
   "cell_type": "code",
   "execution_count": 206,
   "id": "e9a389d9",
   "metadata": {},
   "outputs": [
    {
     "name": "stderr",
     "output_type": "stream",
     "text": [
      "No `TrainingArguments` passed, using `output_dir=tmp_trainer`.\n",
      "PyTorch: setting up devices\n",
      "The default value for the training argument `--report_to` will change in v5 (from all installed integrations to none). In v5, you will need to use `--report_to all` to get the same behavior as now. You should start updating your code and make this info disappear :-).\n",
      "The following columns in the test set don't have a corresponding argument in `BertForSequenceClassification.forward` and have been ignored: text. If text are not expected by `BertForSequenceClassification.forward`,  you can safely ignore this message.\n",
      "***** Running Prediction *****\n",
      "  Num examples = 1000\n",
      "  Batch size = 8\n"
     ]
    },
    {
     "data": {
      "text/html": [],
      "text/plain": [
       "<IPython.core.display.HTML object>"
      ]
     },
     "metadata": {},
     "output_type": "display_data"
    }
   ],
   "source": [
    "\n",
    "trainer = transformers.Trainer(model=task1_model,\n",
    "                      eval_dataset=task1_tokenized[\"test\"],\n",
    "                      tokenizer=tokenizer)\n",
    "\n",
    "tmp1=  trainer.predict(task1_tokenized[\"test\"])\n",
    "classifiers_results['transformer']['task1']=Results('task1',np.argmax(tmp1[0], axis=1),dataset_task1['test']['label'])\n"
   ]
  },
  {
   "cell_type": "code",
   "execution_count": 203,
   "id": "d3973721",
   "metadata": {},
   "outputs": [
    {
     "name": "stderr",
     "output_type": "stream",
     "text": [
      "No `TrainingArguments` passed, using `output_dir=tmp_trainer`.\n",
      "PyTorch: setting up devices\n",
      "The default value for the training argument `--report_to` will change in v5 (from all installed integrations to none). In v5, you will need to use `--report_to all` to get the same behavior as now. You should start updating your code and make this info disappear :-).\n",
      "The following columns in the test set don't have a corresponding argument in `BertForSequenceClassification.forward` and have been ignored: text. If text are not expected by `BertForSequenceClassification.forward`,  you can safely ignore this message.\n",
      "***** Running Prediction *****\n",
      "  Num examples = 1000\n",
      "  Batch size = 8\n"
     ]
    },
    {
     "data": {
      "text/html": [],
      "text/plain": [
       "<IPython.core.display.HTML object>"
      ]
     },
     "metadata": {},
     "output_type": "display_data"
    }
   ],
   "source": [
    "trainer2 = transformers.Trainer(model=task2_model,\n",
    "                      eval_dataset=task2_tokenized[\"test\"],\n",
    "                      tokenizer=tokenizer_task2)\n",
    "\n",
    "tmp2 =  trainer2.predict(task2_tokenized[\"test\"])\n",
    "classifiers_results['transformer']['task2']=Results('task2',np.argmax(tmp2[0], axis=1),dataset_task2['test']['label'])"
   ]
  },
  {
   "cell_type": "markdown",
   "id": "23f6a1d4",
   "metadata": {},
   "source": [
    "<h4>Classifiers comparison</h4>"
   ]
  },
  {
   "cell_type": "code",
   "execution_count": 207,
   "id": "f3c8265c",
   "metadata": {},
   "outputs": [
    {
     "name": "stdout",
     "output_type": "stream",
     "text": [
      "TASK1\n",
      "+-------------+----------+---------------------+---------------------+---------------------+\n",
      "|    model    | accuracy |          f1         |        recall       |      precision      |\n",
      "+-------------+----------+---------------------+---------------------+---------------------+\n",
      "|   bayesian  |  0.782   |  0.2684563758389261 | 0.24390243902439024 | 0.29850746268656714 |\n",
      "|   fasttext  |  0.873   | 0.13605442176870747 |  0.7692307692307693 | 0.07462686567164178 |\n",
      "| transformer |   0.9    |         0.5         |  0.7575757575757576 |  0.373134328358209  |\n",
      "+-------------+----------+---------------------+---------------------+---------------------+\n"
     ]
    }
   ],
   "source": [
    "print(\"TASK1\")\n",
    "x = PrettyTable()\n",
    "x.field_names = [\"model\", \"accuracy\", \"f1\", \"recall\",\"precision\"]\n",
    "x.add_row([\"bayesian\", classifiers_results['bayesian']['task1'].accuracy, classifiers_results['bayesian']['task1'].f1, \n",
    "           classifiers_results['bayesian']['task1'].recall,classifiers_results['bayesian']['task1'].precision])\n",
    "x.add_row([\"fasttext\", classifiers_results['fasttext']['task1'].accuracy, classifiers_results['fasttext']['task1'].f1, \n",
    "           classifiers_results['fasttext']['task1'].recall,classifiers_results['fasttext']['task1'].precision])\n",
    "x.add_row([\"transformer\", classifiers_results['transformer']['task1'].accuracy, classifiers_results['transformer']['task1'].f1, \n",
    "           classifiers_results['transformer']['task1'].recall,classifiers_results['transformer']['task1'].precision])\n",
    "print(x)"
   ]
  },
  {
   "cell_type": "code",
   "execution_count": 204,
   "id": "aa757c2f",
   "metadata": {},
   "outputs": [
    {
     "name": "stdout",
     "output_type": "stream",
     "text": [
      "TASK2\n",
      "+-------------+----------+----------+---------------------+---------------------+--------------------+\n",
      "|    model    | accuracy | f1_micro |       f1_macro      |        recall       |     precision      |\n",
      "+-------------+----------+----------+---------------------+---------------------+--------------------+\n",
      "|   bayesian  |  0.787   |  0.787   |  0.3968305029876156 | 0.40132515731936985 | 0.4081828647301029 |\n",
      "|   fasttext  |  0.866   |  0.866   | 0.31570883450582704 | 0.45615796519410984 | 0.3360065258385067 |\n",
      "| transformer |  0.892   |  0.892   |  0.4954170104708358 |  0.5979220028092208 | 0.4658903461378195 |\n",
      "+-------------+----------+----------+---------------------+---------------------+--------------------+\n"
     ]
    }
   ],
   "source": [
    "print(\"TASK2\")\n",
    "x = PrettyTable()\n",
    "x.field_names = [\"model\", \"accuracy\", \"f1_micro\",\"f1_macro\", \"recall\",\"precision\"]\n",
    "x.add_row([\"bayesian\", classifiers_results['bayesian']['task2'].accuracy, classifiers_results['bayesian']['task2'].f1_micro, \n",
    "           classifiers_results['bayesian']['task2'].f1_macro,\n",
    "           classifiers_results['bayesian']['task2'].recall,classifiers_results['bayesian']['task2'].precision])\n",
    "x.add_row([\"fasttext\", classifiers_results['fasttext']['task2'].accuracy, classifiers_results['fasttext']['task2'].f1_micro, \n",
    "           classifiers_results['fasttext']['task2'].f1_macro,\n",
    "           classifiers_results['fasttext']['task2'].recall,classifiers_results['fasttext']['task2'].precision])\n",
    "x.add_row([\"transformer\", classifiers_results['transformer']['task2'].accuracy, classifiers_results['transformer']['task2'].f1_micro,\n",
    "           classifiers_results['transformer']['task2'].f1_macro,\n",
    "           classifiers_results['transformer']['task2'].recall,classifiers_results['transformer']['task2'].precision])\n",
    "print(x)"
   ]
  },
  {
   "cell_type": "markdown",
   "id": "cd813442",
   "metadata": {},
   "source": [
    "<h4>LIME utility functions</h4>"
   ]
  },
  {
   "cell_type": "code",
   "execution_count": 328,
   "id": "c496881e",
   "metadata": {},
   "outputs": [],
   "source": [
    "class DenseTransformer(sklearn.base.TransformerMixin):\n",
    "\n",
    "    def fit(self, X, y=None, **fit_params):\n",
    "        return self\n",
    "\n",
    "    def transform(self, X, y=None, **fit_params):\n",
    "        return X.todense()\n",
    "\n",
    "def fasttext_prediction_in_sklearn_format(classifier, texts):\n",
    "    res = []\n",
    "    for item in model_task1.predict_proba(texts,10):\n",
    "        if item[0][0]=='0':\n",
    "            res.append([item[0][1],item[1][1]])\n",
    "        else:\n",
    "            res.append([item[1][1],item[0][1]])\n",
    "\n",
    "    return np.array(res)   \n",
    "\n",
    "def predict_transformer_lime(texts):\n",
    "    tokenized = [tokenizer(x, truncation=True) for x in texts]\n",
    "    trainer = transformers.Trainer(model=task1_model, tokenizer=tokenizer)\n",
    "    return trainer.predict(tokenized)\n",
    "\n",
    "def lime_transformer_task1(t):\n",
    "    exp = lime.lime_text.LimeTextExplainer(class_names=[\"neutral\", \"negative\"]).explain_instance(t, lambda x: predict_transformer_lime( x)[0])\n",
    "    return exp.as_list()\n",
    "def lime_bayesian_task1(t):\n",
    "    c = sklearn.pipeline.make_pipeline(vectorizer_taks1,DenseTransformer(), gnb_task1)\n",
    "    exp = lime.lime_text.LimeTextExplainer(class_names=[\"neutral\", \"negative\"]).explain_instance( t,c.predict_proba)\n",
    "    return exp.as_list()\n",
    "def lime_fasttext_task1(t):\n",
    "    exp = lime.lime_text.LimeTextExplainer(class_names=[\"neutral\", \"negative\"]).explain_instance(t,lambda x: fasttext_prediction_in_sklearn_format(model_task1, x))\n",
    "    return exp.as_list()"
   ]
  },
  {
   "cell_type": "markdown",
   "id": "f556376b",
   "metadata": {},
   "source": [
    "<h4>Selection of examples (predictions made by transformer classifier were used as it returned best results)</h4>"
   ]
  },
  {
   "cell_type": "code",
   "execution_count": 340,
   "id": "e85fcb7e",
   "metadata": {},
   "outputs": [
    {
     "name": "stdout",
     "output_type": "stream",
     "text": [
      "Exmaple true positive:\n",
      "@anonymized_account Dokładnie, pisdzielstwo nie ma prawa rozpierdalać systemu,  sądownictwa nie mając większości\n",
      "Exmaple true negative:\n",
      "@anonymized_account Spoko, jak im Duda z Morawieckim zamówią po pięć piw to wszystko będzie ok.\n",
      "Exmaple false positive:\n",
      "Jestem do tylu ale czy Ari zerwała z tym ćpunem?\n",
      "Exmaple false negative:\n",
      "@anonymized_account Tej szmaty się nie komentuje\n"
     ]
    }
   ],
   "source": [
    "selectable = list(zip(dataset_task1['test']['label'],np.argmax(tmp1[0], axis=1)))\n",
    "tp_index = selectable.index((1, 1))\n",
    "tn_index = selectable.index((0, 0))\n",
    "fp_index = selectable.index((0, 1))\n",
    "fn_index = selectable.index((1, 0))\n",
    "print(\"Exmaple true positive:\")\n",
    "print(dataset_task1['test']['text'][tp_index])\n",
    "print(\"Exmaple true negative:\")\n",
    "print(dataset_task1['test']['text'][tn_index])\n",
    "print(\"Exmaple false positive:\")\n",
    "print(dataset_task1['test']['text'][fp_index])\n",
    "print(\"Exmaple false negative:\")\n",
    "print(dataset_task1['test']['text'][fn_index])"
   ]
  },
  {
   "cell_type": "markdown",
   "id": "94b196e1",
   "metadata": {},
   "source": [
    "<h4>Comparison of decisions made by other classifiers on examples chosen for transformer classifier output </h4>"
   ]
  },
  {
   "cell_type": "code",
   "execution_count": 354,
   "id": "086659b4",
   "metadata": {},
   "outputs": [
    {
     "name": "stdout",
     "output_type": "stream",
     "text": [
      "+----------------------+-------------------+-------------------+\n",
      "| transformer_decision | fasttext_decision | bayesian_decision |\n",
      "+----------------------+-------------------+-------------------+\n",
      "|    true positive     |   false negative  |   false negative  |\n",
      "|    true negative     |   true negative   |   true negative   |\n",
      "|    false positive    |   true negative   |   true negative   |\n",
      "|    false negative    |   false negative  |   true positive   |\n",
      "+----------------------+-------------------+-------------------+\n"
     ]
    }
   ],
   "source": [
    "def decision_type_bayes(idx):\n",
    "    match (dataset_task1['test']['label'][idx],task1_pred[idx]):\n",
    "        case (1,1):\n",
    "            return \"true positive\"\n",
    "        case (0,0):\n",
    "            return \"true negative\"\n",
    "        case (0,1):\n",
    "            return \"false positive\"\n",
    "        case (1,0):\n",
    "            return \"false negative\"\n",
    "def decision_type_fasttext(idx):\n",
    "    match (dataset_task1['test']['label'][idx],task1_pred_fast[idx]):\n",
    "        case (1,1):\n",
    "            return \"true positive\"\n",
    "        case (0,0):\n",
    "            return \"true negative\"\n",
    "        case (0,1):\n",
    "            return \"false positive\"\n",
    "        case (1,0):\n",
    "            return \"false negative\"\n",
    "x = PrettyTable()\n",
    "x.field_names = [\"transformer_decision\", \"fasttext_decision\", \"bayesian_decision\",]\n",
    "x.add_row([\"true positive\",decision_type_fasttext(tp_index),decision_type_bayes(tp_index)])\n",
    "x.add_row([\"true negative\",decision_type_fasttext(tn_index),decision_type_bayes(tn_index)])\n",
    "x.add_row([\"false positive\",decision_type_fasttext(fp_index),decision_type_bayes(fp_index)])\n",
    "x.add_row([\"false negative\",decision_type_fasttext(fn_index),decision_type_bayes(fn_index)])\n",
    "print(x)"
   ]
  },
  {
   "cell_type": "markdown",
   "id": "6bff3d3b",
   "metadata": {},
   "source": [
    "<h4>True positive LIME explanation</h4>"
   ]
  },
  {
   "cell_type": "code",
   "execution_count": 346,
   "id": "46e41a90",
   "metadata": {},
   "outputs": [
    {
     "name": "stdout",
     "output_type": "stream",
     "text": [
      "Transformer:\n"
     ]
    },
    {
     "name": "stderr",
     "output_type": "stream",
     "text": [
      "No `TrainingArguments` passed, using `output_dir=tmp_trainer`.\n",
      "PyTorch: setting up devices\n",
      "The default value for the training argument `--report_to` will change in v5 (from all installed integrations to none). In v5, you will need to use `--report_to all` to get the same behavior as now. You should start updating your code and make this info disappear :-).\n",
      "***** Running Prediction *****\n",
      "  Num examples = 5000\n",
      "  Batch size = 8\n"
     ]
    },
    {
     "data": {
      "text/html": [],
      "text/plain": [
       "<IPython.core.display.HTML object>"
      ]
     },
     "metadata": {},
     "output_type": "display_data"
    },
    {
     "name": "stdout",
     "output_type": "stream",
     "text": [
      "('pisdzielstwo', 4.3331948419941355)\n",
      "('anonymized_account', 0.6932275746752234)\n",
      "('rozpierdalać', 0.48553664274834596)\n",
      "('nie', -0.20003645114863353)\n",
      "('systemu', 0.1986852965970299)\n",
      "('sądownictwa', -0.17240545786764708)\n",
      "('prawa', 0.09027234826159426)\n",
      "('mając', 0.07140052973614262)\n",
      "('ma', 0.05223604044352335)\n",
      "('Dokładnie', -0.04935914593684743)\n",
      "Bayesian:\n",
      "('sądownictwa', -0.15041608783071128)\n",
      "('mając', -0.1500899642678433)\n",
      "('większości', -0.13916068018854746)\n",
      "('ma', 0.005683714311630539)\n",
      "('nie', -0.0052194814268681725)\n",
      "('systemu', -0.004662567713990882)\n",
      "('prawa', -0.003279169464704961)\n",
      "('anonymized_account', -0.002035592567654725)\n",
      "('rozpierdalać', -0.0020203451835214847)\n",
      "('Dokładnie', -0.0016848549490595067)\n",
      "Fasttext:\n",
      "('pisdzielstwo', 0.2170514473308283)\n",
      "('systemu', -0.11675253024243636)\n",
      "('Dokładnie', -0.11542863296551906)\n",
      "('anonymized_account', 0.026566897543009418)\n",
      "('nie', 0.019374845854321476)\n",
      "('ma', -0.014228221866048442)\n",
      "('sądownictwa', 0.005715522912811025)\n",
      "('mając', 0.005710553451245384)\n",
      "('większości', -0.004489168708165308)\n",
      "('prawa', -0.0035772351044194082)\n"
     ]
    }
   ],
   "source": [
    "print(\"Transformer:\")\n",
    "print(*lime_transformer_task1(dataset_task1['test']['text'][tp_index]),sep='\\n')\n",
    "print(\"Bayesian:\")\n",
    "print(*lime_bayesian_task1(dataset_task1['test']['text'][tp_index]),sep='\\n')\n",
    "print(\"Fasttext:\")\n",
    "print(*lime_fasttext_task1(dataset_task1['test']['text'][tp_index]),sep='\\n')"
   ]
  },
  {
   "cell_type": "markdown",
   "id": "79c60bf4",
   "metadata": {},
   "source": [
    "<h4>True negative LIME explanation</h4>"
   ]
  },
  {
   "cell_type": "code",
   "execution_count": 345,
   "id": "3637e111",
   "metadata": {},
   "outputs": [
    {
     "name": "stdout",
     "output_type": "stream",
     "text": [
      "Transformer:\n"
     ]
    },
    {
     "name": "stderr",
     "output_type": "stream",
     "text": [
      "No `TrainingArguments` passed, using `output_dir=tmp_trainer`.\n",
      "PyTorch: setting up devices\n",
      "The default value for the training argument `--report_to` will change in v5 (from all installed integrations to none). In v5, you will need to use `--report_to all` to get the same behavior as now. You should start updating your code and make this info disappear :-).\n",
      "***** Running Prediction *****\n",
      "  Num examples = 5000\n",
      "  Batch size = 8\n"
     ]
    },
    {
     "data": {
      "text/html": [],
      "text/plain": [
       "<IPython.core.display.HTML object>"
      ]
     },
     "metadata": {},
     "output_type": "display_data"
    },
    {
     "name": "stdout",
     "output_type": "stream",
     "text": [
      "('Morawieckim', 0.5405107677998163)\n",
      "('Duda', 0.38501462509601225)\n",
      "('piw', -0.2972579227364432)\n",
      "('ok', -0.2730876012418016)\n",
      "('zamówią', -0.20714911448960216)\n",
      "('pięć', -0.1981653954158361)\n",
      "('im', 0.16757968199815287)\n",
      "('anonymized_account', 0.16566373383126076)\n",
      "('z', -0.13250086035586287)\n",
      "('będzie', -0.11309757535712882)\n",
      "Bayesian:\n",
      "('Morawieckim', -0.1432560446196628)\n",
      "('pięć', -0.14309884082636146)\n",
      "('ok', -0.142289700654506)\n",
      "('im', -0.010784465022443769)\n",
      "('po', -0.008999643343233502)\n",
      "('wszystko', -0.006775246876795237)\n",
      "('jak', -0.00581653558447634)\n",
      "('będzie', 0.005315040640373634)\n",
      "('zamówią', 0.00388990517087464)\n",
      "('z', -0.003698499636610202)\n",
      "Fasttext:\n",
      "('będzie', -0.09512405550842264)\n",
      "('Duda', 0.07196867003257745)\n",
      "('im', 0.06709455858338466)\n",
      "('Spoko', -0.06262153118614013)\n",
      "('wszystko', 0.0530254150377875)\n",
      "('ok', -0.04240363810308521)\n",
      "('jak', 0.03587453000371867)\n",
      "('to', -0.02339452879268083)\n",
      "('z', -0.020910986228178288)\n",
      "('anonymized_account', 0.01851609309371786)\n"
     ]
    }
   ],
   "source": [
    "print(\"Transformer:\")\n",
    "print(*lime_transformer_task1(dataset_task1['test']['text'][tn_index]),sep='\\n')\n",
    "print(\"Bayesian:\")\n",
    "print(*lime_bayesian_task1(dataset_task1['test']['text'][tn_index]),sep='\\n')\n",
    "print(\"Fasttext:\")\n",
    "print(*lime_fasttext_task1(dataset_task1['test']['text'][tn_index]),sep='\\n')"
   ]
  },
  {
   "cell_type": "markdown",
   "id": "cec96bcc",
   "metadata": {},
   "source": [
    "<h4>False positive LIME explanation</h4>"
   ]
  },
  {
   "cell_type": "code",
   "execution_count": 347,
   "id": "d8c1c894",
   "metadata": {},
   "outputs": [
    {
     "name": "stdout",
     "output_type": "stream",
     "text": [
      "Transformer:\n"
     ]
    },
    {
     "name": "stderr",
     "output_type": "stream",
     "text": [
      "No `TrainingArguments` passed, using `output_dir=tmp_trainer`.\n",
      "PyTorch: setting up devices\n",
      "The default value for the training argument `--report_to` will change in v5 (from all installed integrations to none). In v5, you will need to use `--report_to all` to get the same behavior as now. You should start updating your code and make this info disappear :-).\n",
      "***** Running Prediction *****\n",
      "  Num examples = 5000\n",
      "  Batch size = 8\n"
     ]
    },
    {
     "data": {
      "text/html": [],
      "text/plain": [
       "<IPython.core.display.HTML object>"
      ]
     },
     "metadata": {},
     "output_type": "display_data"
    },
    {
     "name": "stdout",
     "output_type": "stream",
     "text": [
      "('ćpunem', 4.43738940871803)\n",
      "('tym', 0.7542544786602385)\n",
      "('ale', -0.5722882453118739)\n",
      "('Jestem', -0.26945758641511)\n",
      "('czy', -0.25072302217275694)\n",
      "('Ari', -0.15999653388717883)\n",
      "('z', -0.15649637698546917)\n",
      "('tylu', 0.09113237907503344)\n",
      "('do', 0.02804369594730482)\n",
      "('zerwała', 0.020633889317540947)\n",
      "Bayesian:\n",
      "('tylu', -0.5778116801406644)\n",
      "('Ari', -0.5702098614166565)\n",
      "('ćpunem', 0.41119632356014424)\n",
      "('z', 0.024917049467477772)\n",
      "('do', 0.019663439420494224)\n",
      "('ale', 0.01818547160393231)\n",
      "('Jestem', 0.009785677632022306)\n",
      "('czy', 0.009025678067249446)\n",
      "('tym', 0.006738856773425721)\n",
      "('zerwała', 0.0023226118779101058)\n",
      "Fasttext:\n",
      "('tym', -9.467998023930894e-06)\n",
      "('ale', -8.919216754983273e-06)\n",
      "('do', -8.856150820898994e-06)\n",
      "('czy', 4.707257836315553e-06)\n",
      "('tylu', 4.673097575054306e-06)\n",
      "('z', 4.3899412746581926e-06)\n",
      "('Jestem', 4.107625056151985e-06)\n",
      "('Ari', 4.075008418869659e-06)\n",
      "('ćpunem', 3.7512181833719866e-06)\n",
      "('zerwała', 2.1351520300194493e-06)\n"
     ]
    }
   ],
   "source": [
    "print(\"Transformer:\")\n",
    "print(*lime_transformer_task1(dataset_task1['test']['text'][fp_index]),sep='\\n')\n",
    "print(\"Bayesian:\")\n",
    "print(*lime_bayesian_task1(dataset_task1['test']['text'][fp_index]),sep='\\n')\n",
    "print(\"Fasttext:\")\n",
    "print(*lime_fasttext_task1(dataset_task1['test']['text'][fp_index]),sep='\\n')"
   ]
  },
  {
   "cell_type": "markdown",
   "id": "5ea0fb0a",
   "metadata": {},
   "source": [
    "<h4>False negative LIME explanation</h4>"
   ]
  },
  {
   "cell_type": "code",
   "execution_count": 348,
   "id": "6c6b3e6d",
   "metadata": {},
   "outputs": [
    {
     "name": "stdout",
     "output_type": "stream",
     "text": [
      "Transformer:\n"
     ]
    },
    {
     "name": "stderr",
     "output_type": "stream",
     "text": [
      "No `TrainingArguments` passed, using `output_dir=tmp_trainer`.\n",
      "PyTorch: setting up devices\n",
      "The default value for the training argument `--report_to` will change in v5 (from all installed integrations to none). In v5, you will need to use `--report_to all` to get the same behavior as now. You should start updating your code and make this info disappear :-).\n",
      "***** Running Prediction *****\n",
      "  Num examples = 5000\n",
      "  Batch size = 8\n"
     ]
    },
    {
     "data": {
      "text/html": [],
      "text/plain": [
       "<IPython.core.display.HTML object>"
      ]
     },
     "metadata": {},
     "output_type": "display_data"
    },
    {
     "name": "stdout",
     "output_type": "stream",
     "text": [
      "('szmaty', 2.770559799210798)\n",
      "('anonymized_account', 1.7494970844970126)\n",
      "('nie', -1.006269238087004)\n",
      "('się', -0.40547075658296167)\n",
      "('komentuje', -0.27382569753906916)\n",
      "('Tej', 0.25265883798215916)\n",
      "Bayesian:\n",
      "('szmaty', 0.6633921303073481)\n",
      "('komentuje', -0.3355436376297456)\n",
      "('się', -0.03764488179266531)\n",
      "('Tej', -0.033256429522814365)\n",
      "('nie', -0.024308991697711224)\n",
      "('anonymized_account', -0.0241214160738303)\n",
      "Fasttext:\n",
      "('szmaty', 0.00773730065945517)\n",
      "('nie', 0.0051392767807105656)\n",
      "('Tej', 0.005092592935976661)\n",
      "('się', -0.002791644650219082)\n",
      "('anonymized_account', 0.0021916099007646224)\n",
      "('komentuje', -0.00027656144062449445)\n"
     ]
    }
   ],
   "source": [
    "print(\"Transformer:\")\n",
    "print(*lime_transformer_task1(dataset_task1['test']['text'][fn_index]),sep='\\n')\n",
    "print(\"Bayesian:\")\n",
    "print(*lime_bayesian_task1(dataset_task1['test']['text'][fn_index]),sep='\\n')\n",
    "print(\"Fasttext:\")\n",
    "print(*lime_fasttext_task1(dataset_task1['test']['text'][fn_index]),sep='\\n')"
   ]
  },
  {
   "cell_type": "markdown",
   "id": "3bcc5931",
   "metadata": {},
   "source": [
    "<h4>Anwsers</h4>\n",
    "<h3>I</h3>\n",
    "<p>For both tasks the transformer architecture based classifier (a fine tuned allegro-herbert model) achieved the best results in all metrics chosen.</p>\n",
    "<h3>II</h3>\n",
    "<p>For task 1 the transformer model can certainly deliver results comparable to the results of the PolEval task in terms of accuracy, f1 score and recall. However it severely lacks performance in terms of precision. compared to most PolEval solutions.\n",
    "For task 2 the results are comparable to the top solutions of the PolEval task with the f1-micro score being better than all other solutions and the f1-macro score being only slightly worse.\n",
    "</p>\n",
    "<h3>III</h3>\n",
    "<p>As of time of writing of this report (27.11.2022) the Klej leaderboard page was unaccessible.</p>\n",
    "<h3>IV</h3>\n",
    "<p>The transformer based model was best in terms of decisions made by the model, it did however require significant time for training and classification, whereas the bayesian and fasttext classifiers were much faster (the fasttext seemed to be the fastest in terms of training time). The disk size needed for storage is also much higher for the transformer based model architecture compared to other ones. The saving grace for the bayesian classifier is the fact that it is implemented in the sklearn package and follows an API convention that allows it for seamless integration with popular tools such as the LIME explainer.</p>\n",
    "<h3>V</h3>\n",
    "<p>In my opinion a simple comparison of raw performance values on a single task is insufficient for a proper assessment of given algorithms/models. Since not  only certain algorithms/models may work better depending on the dataset given, because of biases and other factors in the data, but other than that for certain real-world applications of those algorithms/models other factors than the quality of predictions can play a major factor in the feasibility of using those algorithms. For example in network request classification workloads we care not only about the accuracy of the model (although accuracy is still important) but also about the computational complexity needed for classifications since we need to classify up to millions of requests per second without incurring significant time overheads in request answering. As such we may find that in literature some “simpler” statistical models such as Hiden Markov Models are popular and real-word solutions are rules or signature based systems that use little to no machine learning at all.</p>\n",
    "<h3>VI</h3>\n",
    "<p>LIME showed that model use valuable words in classification with certain words being treated with higher values than other (eg. “ćpun”).</p>"
   ]
  },
  {
   "cell_type": "code",
   "execution_count": null,
   "id": "d600ba95",
   "metadata": {},
   "outputs": [],
   "source": []
  }
 ],
 "metadata": {
  "kernelspec": {
   "display_name": "Python 3 (ipykernel)",
   "language": "python",
   "name": "python3"
  },
  "language_info": {
   "codemirror_mode": {
    "name": "ipython",
    "version": 3
   },
   "file_extension": ".py",
   "mimetype": "text/x-python",
   "name": "python",
   "nbconvert_exporter": "python",
   "pygments_lexer": "ipython3",
   "version": "3.10.7"
  }
 },
 "nbformat": 4,
 "nbformat_minor": 5
}
