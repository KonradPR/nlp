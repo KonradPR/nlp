{
 "cells": [
  {
   "cell_type": "markdown",
   "id": "0d6c23fa",
   "metadata": {},
   "source": [
    "<h3>Multiword expressions identification and extraction</h3>\n",
    "<p>Konrad Przewłoka</p>"
   ]
  },
  {
   "cell_type": "markdown",
   "id": "6791f50d",
   "metadata": {},
   "source": [
    "<h4>Imports</h4>"
   ]
  },
  {
   "cell_type": "code",
   "execution_count": 96,
   "id": "f65192c9",
   "metadata": {},
   "outputs": [],
   "source": [
    "from spacy.tokenizer import Tokenizer\n",
    "from spacy.lang.pl import Polish\n",
    "import os\n",
    "import random\n",
    "import math\n",
    "import collections\n",
    "import matplotlib.pyplot as plt\n",
    "from prettytable import PrettyTable\n",
    "import requests"
   ]
  },
  {
   "cell_type": "markdown",
   "id": "f085088f",
   "metadata": {},
   "source": [
    "<h4>Load data</h4>"
   ]
  },
  {
   "cell_type": "code",
   "execution_count": 97,
   "id": "95f2ddad",
   "metadata": {},
   "outputs": [],
   "source": [
    "data=[]\n",
    "files = os.listdir(\"../ustawy\")\n",
    "for file in files:\n",
    "    with open(\"../ustawy\" + '/' + file, 'r', encoding='utf8') as f:\n",
    "        tmp = f.read().lower()\n",
    "        data.append(tmp)"
   ]
  },
  {
   "cell_type": "markdown",
   "id": "02ba3cbe",
   "metadata": {},
   "source": [
    "<h4>SpaCy tokenization</h4>"
   ]
  },
  {
   "cell_type": "code",
   "execution_count": 98,
   "id": "290f6400",
   "metadata": {},
   "outputs": [],
   "source": [
    "nlp = Polish()\n",
    "tokenizer = nlp.tokenizer\n",
    "tokenized_data = [[t.text for t in tokenizer(r)] for r in data ]\n",
    "tokens_counter = collections.Counter([element for sublist in tokenized_data for element in sublist])\n",
    "tmp = []\n",
    "for key in tokens_counter.keys():\n",
    "    if not key.isalpha():\n",
    "        tmp.append(key)\n",
    "        \n",
    "for key in tmp:\n",
    "    del tokens_counter[key]\n",
    "    \n",
    "tokens_total = sum(tokens_counter.values())"
   ]
  },
  {
   "cell_type": "markdown",
   "id": "2139f79b",
   "metadata": {},
   "source": [
    "<h4>Bigram computation</h4>"
   ]
  },
  {
   "cell_type": "code",
   "execution_count": 99,
   "id": "d4a484f0",
   "metadata": {},
   "outputs": [],
   "source": [
    "bigrams=[]\n",
    "for file in tokenized_data:\n",
    "    previous_token = None\n",
    "    for token in file:\n",
    "        if previous_token != None:\n",
    "            bigrams.append(\" \".join([previous_token,token]))\n",
    "        previous_token = token\n",
    "bigrams_counter = collections.Counter(bigrams)\n",
    "\n",
    "#Filter out bigrams containing characters other than letters\n",
    "def is_correct(s):\n",
    "    if len(s.split())!=2:\n",
    "        return False\n",
    "    for element in s:\n",
    "        if not element.isalpha() and element!=' ':\n",
    "            return False\n",
    "    return True\n",
    "\n",
    "tmp = []\n",
    "for key in bigrams_counter.keys():\n",
    "    if not is_correct(key):\n",
    "        tmp.append(key)\n",
    "        \n",
    "for key in tmp:\n",
    "    del bigrams_counter[key]"
   ]
  },
  {
   "cell_type": "markdown",
   "id": "f480124d",
   "metadata": {},
   "source": [
    "<h4>PMI for all bigrams</h4>"
   ]
  },
  {
   "cell_type": "code",
   "execution_count": 100,
   "id": "d3d953ee",
   "metadata": {},
   "outputs": [
    {
     "data": {
      "text/plain": [
       "[('kołowe jednoosiowe', 22.2954635058116),\n",
       " ('zbrojeń żelbeto', 22.2954635058116),\n",
       " ('prefabrykatów wnętrzowe', 22.2954635058116),\n",
       " ('gołe aluminiowe', 22.2954635058116),\n",
       " ('polistyrenu spienionego', 22.2954635058116),\n",
       " ('objaśnieniem figur', 22.2954635058116),\n",
       " ('wkładzie wnoszonym', 22.2954635058116),\n",
       " ('doktorem habilitowanym', 22.2954635058116),\n",
       " ('losy loteryjne', 22.2954635058116),\n",
       " ('ugaszone zapałki', 22.2954635058116)]"
      ]
     },
     "execution_count": 100,
     "metadata": {},
     "output_type": "execute_result"
    }
   ],
   "source": [
    "bigrams_total= sum(bigrams_counter.values())\n",
    "def pmi(bigram):\n",
    "    p_w1 = tokens_counter[bigram.split()[0]]/float(tokens_total)\n",
    "    p_w2 = tokens_counter[bigram.split()[1]]/float(tokens_total)\n",
    "    p_bigram = bigrams_counter[bigram]/bigrams_total\n",
    "    return math.log2(p_bigram/(p_w1*p_w2))\n",
    "bigrams_pmi = {bigram: pmi(bigram) for bigram  in bigrams_counter.keys()}\n",
    "collections.Counter(bigrams_pmi).most_common()[:10]"
   ]
  },
  {
   "cell_type": "markdown",
   "id": "ca7f3452",
   "metadata": {},
   "source": [
    "<h4>PMI for bigrams with 5 or more occurences</h4>"
   ]
  },
  {
   "cell_type": "code",
   "execution_count": 102,
   "id": "02ca9920",
   "metadata": {},
   "outputs": [
    {
     "data": {
      "text/plain": [
       "[('świeckie przygotowujące', 19.97353541092424),\n",
       " ('klęskami żywiołowymi', 19.97353541092424),\n",
       " ('ręcznego miotacza', 19.97353541092424),\n",
       " ('stajnią wyścigową', 19.97353541092424),\n",
       " ('otworami wiertniczymi', 19.97353541092424),\n",
       " ('obcowania płciowego', 19.97353541092424),\n",
       " ('młyny kulowe', 19.97353541092424),\n",
       " ('młynki młotkowe', 19.97353541092424),\n",
       " ('zaszkodzić wynikom', 19.97353541092424),\n",
       " ('grzegorz schetyna', 19.97353541092424)]"
      ]
     },
     "execution_count": 102,
     "metadata": {},
     "output_type": "execute_result"
    }
   ],
   "source": [
    "bigrams_filltered_pmi = {bigram: pmi(bigram) for bigram,count  in bigrams_counter.items() if count >=5}\n",
    "collections.Counter(bigrams_filltered_pmi).most_common()[:10]"
   ]
  },
  {
   "cell_type": "markdown",
   "id": "9633fbe7",
   "metadata": {},
   "source": [
    "<h4>KNNRT tagging and lemmatization<h4>"
   ]
  },
  {
   "cell_type": "code",
   "execution_count": 15,
   "id": "bfc04642",
   "metadata": {},
   "outputs": [],
   "source": [
    "taged_data = [(lambda text: requests.post(\"http://localhost:9200\", data=text.encode(\"utf-8\")).content.decode(\"utf-8\"))(text) for text in data]"
   ]
  },
  {
   "cell_type": "markdown",
   "id": "31d7bba3",
   "metadata": {},
   "source": [
    "<h4>Bigram computation for tagged data<h4>"
   ]
  },
  {
   "cell_type": "code",
   "execution_count": 103,
   "id": "1aaaa30d",
   "metadata": {},
   "outputs": [],
   "source": [
    "tokenized_data_tagged=[]\n",
    "for file in taged_data:\n",
    "    lines = file.split(\"\\n\")\n",
    "    splits = [line.strip().split('\\t') for line in lines if line.startswith(\"\\t\")]\n",
    "    tokens = [(split[0].lower(),split[1].split(\":\")[0]) for split in splits if len(split)>=2]\n",
    "    tokenized_data_tagged.append(tokens)\n",
    "\n",
    "bigrams_tagged = [] \n",
    "for file in tokenized_data_tagged:\n",
    "    prev_token = None\n",
    "    file_bigrams=[]\n",
    "    for token in file:\n",
    "        if prev_token!=None:\n",
    "            file_bigrams.append((prev_token,token))\n",
    "        prev_token=token\n",
    "    bigrams_tagged.append(file_bigrams)\n",
    "tokens_total_tagged=[]    \n",
    "for file in tokenized_data_tagged:\n",
    "    for token in file:\n",
    "        if token[0].isalpha():\n",
    "            tokens_total_tagged.append(token)\n",
    "\n",
    "tokens_counter_tagged= collections.Counter(tokens_total_tagged)\n",
    "bigram_counter_tagged= collections.Counter([element for sublist in bigrams_tagged for element in sublist])\n",
    "\n",
    "tmp = []\n",
    "for key in bigram_counter_tagged.keys():\n",
    "    if not key[0][0].isalpha() or not key[1][0].isalpha():\n",
    "        tmp.append(key)\n",
    "        \n",
    "for key in tmp:\n",
    "    del bigram_counter_tagged[key]\n",
    "\n",
    "tokens_total_tagged = sum(tokens_counter_tagged.values())"
   ]
  },
  {
   "cell_type": "markdown",
   "id": "7dd5734b",
   "metadata": {},
   "source": [
    "<h4>PMI for all bigrams from tagged data<h4>"
   ]
  },
  {
   "cell_type": "code",
   "execution_count": 104,
   "id": "a29ba90d",
   "metadata": {},
   "outputs": [
    {
     "data": {
      "text/plain": [
       "[((('tornister', 'subst'), ('nieskórzany', 'adj')), 22.151063128973618),\n",
       " ((('cji', 'interj'), ('wadociągowych', 'adj')), 22.151063128973618),\n",
       " ((('zbrojenia', 'subst'), ('żelbeto', 'subst')), 22.151063128973618),\n",
       " ((('reduktor', 'subst'), ('membranowy', 'adj')), 22.151063128973618),\n",
       " ((('rozdzielnice', 'adj'), ('prefabrykat', 'subst')), 22.151063128973618),\n",
       " ((('prefabrykat', 'subst'), ('wnętrzowy', 'adj')), 22.151063128973618),\n",
       " ((('polistyren', 'subst'), ('spienić', 'ppas')), 22.151063128973618),\n",
       " ((('uw', 'subst'), ('zględnieniu', 'subst')), 22.151063128973618),\n",
       " ((('któ', 'adj'), ('rych', 'adj')), 22.151063128973618),\n",
       " ((('zaniedbać', 'ppas'), ('wychowawczo', 'adv')), 22.151063128973618)]"
      ]
     },
     "execution_count": 104,
     "metadata": {},
     "output_type": "execute_result"
    }
   ],
   "source": [
    "bigrams_total_tagged= sum(bigram_counter_tagged.values())\n",
    "def pmi(bigram):\n",
    "    p_w1 = tokens_counter_tagged[bigram[0]]/float(tokens_total_tagged)\n",
    "    p_w2 = tokens_counter_tagged[bigram[1]]/float(tokens_total_tagged)\n",
    "    p_bigram = bigram_counter_tagged[bigram]/bigrams_total_tagged\n",
    "    return math.log2(p_bigram/(p_w1*p_w2))\n",
    "bigrams_pmi_tagged = {bigram: pmi(bigram) for bigram  in bigram_counter_tagged.keys()}\n",
    "collections.Counter(bigrams_pmi_tagged).most_common()[:10]"
   ]
  },
  {
   "cell_type": "markdown",
   "id": "68b75b3c",
   "metadata": {},
   "source": [
    "<h4>PMI for bigrams with 5 or more occurences from tagged data</h4>"
   ]
  },
  {
   "cell_type": "code",
   "execution_count": 105,
   "id": "d60390c8",
   "metadata": {},
   "outputs": [
    {
     "data": {
      "text/plain": [
       "[((('młynek', 'subst'), ('młotkowy', 'adj')), 19.829135034086256),\n",
       " ((('grzegorz', 'subst'), ('schetyna', 'subst')), 19.829135034086256),\n",
       " ((('pasta', 'subst'), ('emulsyjny', 'adj')), 19.566100628252464),\n",
       " ((('chrom', 'subst'), ('sześciowartościowy', 'adj')), 19.566100628252464),\n",
       " ((('adam', 'subst'), ('mickiewicz', 'subst')), 19.566100628252464),\n",
       " ((('piotrków', 'subst'), ('trybunalski', 'adj')), 19.343708206916016),\n",
       " ((('młyn', 'subst'), ('kulowy', 'adj')), 19.343708206916016),\n",
       " ((('środa', 'subst'), ('wlkp', 'brev')), 19.343708206916016),\n",
       " ((('przeponowy', 'adj'), ('rurowy', 'adj')), 19.151063128973618),\n",
       " ((('skrzynka', 'subst'), ('podawczy', 'adj')), 19.151063128973618)]"
      ]
     },
     "execution_count": 105,
     "metadata": {},
     "output_type": "execute_result"
    }
   ],
   "source": [
    "bigrams_filltered_pmi_tagged = {bigram: pmi(bigram) for bigram,count  in bigram_counter_tagged.items() if count >=5}\n",
    "collections.Counter(bigrams_filltered_pmi_tagged).most_common()[:10]"
   ]
  },
  {
   "cell_type": "markdown",
   "id": "9e15f03f",
   "metadata": {},
   "source": [
    "<h4>Untagged trigram computation</h4>"
   ]
  },
  {
   "cell_type": "code",
   "execution_count": 106,
   "id": "28316fea",
   "metadata": {},
   "outputs": [],
   "source": [
    "trigrams=[]\n",
    "for file in tokenized_data:\n",
    "    previous_token = None\n",
    "    previous_previous_token = None\n",
    "    for token in file:\n",
    "        if previous_token != None and previous_previous_token!=None:\n",
    "            trigrams.append(\" \".join([previous_previous_token,previous_token,token]))\n",
    "        previous_previous_token = previous_token\n",
    "        previous_token = token\n",
    "trigrams = collections.Counter(trigrams)\n",
    "\n",
    "def is_correct(s):\n",
    "    if len(s.split())!=3:\n",
    "        return False\n",
    "    for element in s:\n",
    "        if not element.isalpha() and element!=' ':\n",
    "            return False\n",
    "    return True\n",
    "\n",
    "tmp = []\n",
    "for key in trigrams.keys():\n",
    "    if not is_correct(key):\n",
    "        tmp.append(key)\n",
    "        \n",
    "for key in tmp:\n",
    "    del trigrams[key]\n",
    "    \n",
    "filltered_trigrams = {trigram: count for trigram, count  in trigrams.items() if count>=5} "
   ]
  },
  {
   "cell_type": "markdown",
   "id": "751dc108",
   "metadata": {},
   "source": [
    "<h4>Tagged trigram computation<h4>"
   ]
  },
  {
   "cell_type": "code",
   "execution_count": 107,
   "id": "5fcde6ec",
   "metadata": {},
   "outputs": [],
   "source": [
    "trigrams_tagged=[]\n",
    "for file in tokenized_data_tagged:\n",
    "    previous_token = None\n",
    "    previous_previous_token = None\n",
    "    for token in file:\n",
    "        if previous_token != None and previous_previous_token!=None:\n",
    "            trigrams_tagged.append((previous_previous_token,previous_token,token))\n",
    "        previous_previous_token = previous_token\n",
    "        previous_token = token\n",
    "trigrams_tagged = collections.Counter(trigrams_tagged)\n",
    "\n",
    "tmp = []\n",
    "for key in trigrams_tagged.keys():\n",
    "    if not key[0][0].isalpha() or not key[1][0].isalpha() or not key[2][0].isalpha():\n",
    "        tmp.append(key)\n",
    "        \n",
    "for key in tmp:\n",
    "    del trigrams_tagged[key]\n",
    "    \n",
    "filltered_trigrams_tagged = {trigram: count for trigram, count  in trigrams_tagged.items() if count>=5} "
   ]
  },
  {
   "cell_type": "markdown",
   "id": "cdde7c09",
   "metadata": {},
   "source": [
    "<h4>PMI for trigrams with 5 or more occurences from untagged data</h4>"
   ]
  },
  {
   "cell_type": "code",
   "execution_count": 108,
   "id": "fcadfb87",
   "metadata": {},
   "outputs": [
    {
     "data": {
      "text/plain": [
       "[('uroczyście na powierzonym', 13.432253789295611),\n",
       " ('na powierzonym mi', 13.432253789295611),\n",
       " ('zostało im cofnięte', 13.432253789295611),\n",
       " ('im cofnięte pozwolenie', 13.432253789295611),\n",
       " ('w magazynie celnym', 13.432253789295611),\n",
       " ('zanim zapadł pierwszy', 13.432253789295611),\n",
       " ('zapadł pierwszy wyrok', 13.432253789295611),\n",
       " ('do ciągu przestępstw', 13.432253789295611),\n",
       " ('dwukrotnie użyty wyraz', 13.432253789295611),\n",
       " ('funduszu odrębny bilans', 13.432253789295611)]"
      ]
     },
     "execution_count": 108,
     "metadata": {},
     "output_type": "execute_result"
    }
   ],
   "source": [
    "total_trigrams=sum(trigrams.values())\n",
    "def pmi3(trigram):\n",
    "    p_w1w2 = bigrams_counter[\" \".join([trigram.split()[0],trigram.split()[1]])]/bigrams_total\n",
    "    p_w2w3 = bigrams_counter[\" \".join([trigram.split()[1],trigram.split()[2]])]/bigrams_total\n",
    "    p_trigram = filltered_trigrams[trigram]/total_trigrams\n",
    "    return math.log(p_trigram/(p_w1w2*p_w2w3))\n",
    "filltered_trigrams_pmi = {trigram: pmi3(trigram) for trigram  in filltered_trigrams.keys()}\n",
    "collections.Counter(filltered_trigrams_pmi).most_common()[:10]"
   ]
  },
  {
   "cell_type": "markdown",
   "id": "d2107b86",
   "metadata": {},
   "source": [
    "<h4>PMI for trigrams with 5 or more occurences from tagged data</h4>"
   ]
  },
  {
   "cell_type": "code",
   "execution_count": 109,
   "id": "c1cf31a2",
   "metadata": {},
   "outputs": [
    {
     "data": {
      "text/plain": [
       "[((('cel', 'subst'), ('zastrzec', 'ger'), ('pierwszeństwo', 'subst')),\n",
       "  13.650222204966445),\n",
       " ((('uroczyście', 'adv'), ('na', 'prep'), ('powierzyć', 'ppas')),\n",
       "  13.650222204966445),\n",
       " ((('przedstawiać', 'fin'), ('korzystny', 'adj'), ('bilans', 'subst')),\n",
       "  13.650222204966445),\n",
       " ((('wnieść', 'ger'), ('nowy', 'adj'), ('wadium', 'subst')),\n",
       "  13.650222204966445),\n",
       " ((('zanim', 'comp'), ('zapaść', 'praet'), ('pierwszy', 'adj')),\n",
       "  13.650222204966445),\n",
       " ((('wpływ', 'subst'), ('uchybienie', 'subst'), ('na', 'prep')),\n",
       "  13.650222204966445),\n",
       " ((('fundusz', 'subst'), ('odrębny', 'adj'), ('bilans', 'subst')),\n",
       "  13.650222204966445),\n",
       " ((('każdy', 'adj'), ('rozliczać', 'ppas'), ('miesiąc', 'subst')),\n",
       "  13.650222204966445),\n",
       " ((('usługa', 'subst'), ('korzystać', 'fin'), ('jednostka', 'subst')),\n",
       "  13.650222204966445),\n",
       " ((('obowiązkowy', 'adj'), ('obciążyć', 'ger'), ('wynik', 'subst')),\n",
       "  13.650222204966445)]"
      ]
     },
     "execution_count": 109,
     "metadata": {},
     "output_type": "execute_result"
    }
   ],
   "source": [
    "total_trigrams_tagged=sum(trigrams.values())\n",
    "def pmi3(trigram):\n",
    "    p_w1w2 = bigram_counter_tagged[(trigram[0],trigram[1])]/bigrams_total_tagged\n",
    "    p_w2w3 = bigram_counter_tagged[(trigram[1],trigram[2])]/bigrams_total_tagged\n",
    "    p_trigram = filltered_trigrams_tagged[trigram]/total_trigrams_tagged\n",
    "    return math.log(p_trigram/(p_w1w2*p_w2w3))\n",
    "filltered_trigrams_pmi_tagged = {trigram: pmi3(trigram) for trigram  in filltered_trigrams_tagged.keys()}\n",
    "collections.Counter(filltered_trigrams_pmi_tagged).most_common()[:10]"
   ]
  },
  {
   "cell_type": "markdown",
   "id": "406c5c24",
   "metadata": {},
   "source": [
    "<h4>PMI for trigrams with 5 or more occurences from tagged data with additional filters (in this case adjective noun adjective)</h4>"
   ]
  },
  {
   "cell_type": "code",
   "execution_count": 110,
   "id": "39fa3445",
   "metadata": {},
   "outputs": [
    {
     "data": {
      "text/plain": [
       "[((('czechosłowacki', 'adj'),\n",
       "   ('republika', 'subst'),\n",
       "   ('socjalistyczny', 'adj')),\n",
       "  13.650222204966445),\n",
       " ((('porcelanowy', 'adj'), ('młyn', 'subst'), ('kulowy', 'adj')),\n",
       "  13.650222204966445),\n",
       " ((('elektroniczny', 'adj'), ('skrzynka', 'subst'), ('podawczy', 'adj')),\n",
       "  13.650222204966445),\n",
       " ((('ratowniczy', 'adj'), ('centrum', 'subst'), ('koordynacyjny', 'adj')),\n",
       "  13.46790064817249),\n",
       " ((('wojskowy', 'adj'), ('areszt', 'subst'), ('dyscyplinarny', 'adj')),\n",
       "  13.46790064817249),\n",
       " ((('pełny', 'adj'), ('krew', 'subst'), ('angielski', 'adj')),\n",
       "  13.46790064817249),\n",
       " ((('bezwodny', 'adj'), ('tłuszcz', 'subst'), ('mleczny', 'adj')),\n",
       "  13.46790064817249),\n",
       " ((('wojewódzki', 'adj'), ('zgromadzenie', 'subst'), ('wyborczy', 'adj')),\n",
       "  13.46790064817249),\n",
       " ((('roczny', 'adj'), ('przygotowanie', 'subst'), ('przedszkolny', 'adj')),\n",
       "  13.46790064817249),\n",
       " ((('krajowy', 'adj'), ('informacja', 'subst'), ('skarbowy', 'adj')),\n",
       "  13.46790064817249)]"
      ]
     },
     "execution_count": 110,
     "metadata": {},
     "output_type": "execute_result"
    }
   ],
   "source": [
    "collections.Counter({trigram:pmi for trigram,pmi in filltered_trigrams_pmi_tagged.items() if trigram[0][1]=='adj' and trigram[1][1]=='subst' and trigram[2][1]=='adj'}).most_common()[:10]"
   ]
  },
  {
   "cell_type": "markdown",
   "id": "b00654c6",
   "metadata": {},
   "source": [
    "<h4>Table for bigrams<h4>"
   ]
  },
  {
   "cell_type": "code",
   "execution_count": 112,
   "id": "e74f27ed",
   "metadata": {},
   "outputs": [
    {
     "name": "stdout",
     "output_type": "stream",
     "text": [
      "+------------------------------------------------+-------------------------------------------------------+\n",
      "|                  PMI untagged                  |                       PMI tagged                      |\n",
      "+------------------------------------------------+-------------------------------------------------------+\n",
      "| ('świeckie przygotowujące', 19.97353541092424) |   tornister:subst nieskórzany:adj 22.151063128973618  |\n",
      "|  ('klęskami żywiołowymi', 19.97353541092424)   |    cji:interj wadociągowych:adj 22.151063128973618    |\n",
      "|    ('ręcznego miotacza', 19.97353541092424)    |    zbrojenia:subst żelbeto:subst 22.151063128973618   |\n",
      "|    ('stajnią wyścigową', 19.97353541092424)    |    reduktor:subst membranowy:adj 22.151063128973618   |\n",
      "|  ('otworami wiertniczymi', 19.97353541092424)  | rozdzielnice:adj prefabrykat:subst 22.151063128973618 |\n",
      "|   ('obcowania płciowego', 19.97353541092424)   |   prefabrykat:subst wnętrzowy:adj 22.151063128973618  |\n",
      "|      ('młyny kulowe', 19.97353541092424)       |    polistyren:subst spienić:ppas 22.151063128973618   |\n",
      "|     ('młynki młotkowe', 19.97353541092424)     |     uw:subst zględnieniu:subst 22.151063128973618     |\n",
      "|   ('zaszkodzić wynikom', 19.97353541092424)    |          któ:adj rych:adj 22.151063128973618          |\n",
      "|    ('grzegorz schetyna', 19.97353541092424)    |   zaniedbać:ppas wychowawczo:adv 22.151063128973618   |\n",
      "+------------------------------------------------+-------------------------------------------------------+\n"
     ]
    }
   ],
   "source": [
    "r1 = collections.Counter(bigrams_filltered_pmi).most_common()\n",
    "r2 = [ x[0][0][0]+\":\"+x[0][0][1]+\" \"+x[0][1][0]+\":\"+x[0][1][1]+\" \"+str(x[1]) for x in collections.Counter(bigrams_pmi_tagged).most_common()]\n",
    "t = PrettyTable(['PMI untagged', 'PMI tagged'])\n",
    "for i in range(10):\n",
    "    t.add_row([r1[i],r2[i]])\n",
    "print(t)"
   ]
  },
  {
   "cell_type": "markdown",
   "id": "19440aa7",
   "metadata": {},
   "source": [
    "<h4>Table for trigrams</h4>"
   ]
  },
  {
   "cell_type": "code",
   "execution_count": 90,
   "id": "2367cf6c",
   "metadata": {},
   "outputs": [
    {
     "name": "stdout",
     "output_type": "stream",
     "text": [
      "+---------------------------------------------------+----------------------------------------------------------------+\n",
      "|                    PMI untagged                   |                           PMI tagged                           |\n",
      "+---------------------------------------------------+----------------------------------------------------------------+\n",
      "| ('uroczyście na powierzonym', 13.432253789295611) | cel:subst zastrzec:ger pierwszeństwo:subst 13.650222204966445  |\n",
      "|     ('na powierzonym mi', 13.432253789295611)     |    uroczyście:adv na:prep powierzyć:ppas 13.650222204966445    |\n",
      "|    ('zostało im cofnięte', 13.432253789295611)    | przedstawiać:fin korzystny:adj bilans:subst 13.650222204966445 |\n",
      "|   ('im cofnięte pozwolenie', 13.432253789295611)  |      wnieść:ger nowy:adj wadium:subst 13.650222204966445       |\n",
      "|     ('w magazynie celnym', 13.432253789295611)    |    zanim:comp zapaść:praet pierwszy:adj 13.650222204966445     |\n",
      "|   ('zanim zapadł pierwszy', 13.432253789295611)   |    wpływ:subst uchybienie:subst na:prep 13.650222204966445     |\n",
      "|   ('zapadł pierwszy wyrok', 13.432253789295611)   |   fundusz:subst odrębny:adj bilans:subst 13.650222204966445    |\n",
      "|    ('do ciągu przestępstw', 13.432253789295611)   |   każdy:adj rozliczać:ppas miesiąc:subst 13.650222204966445    |\n",
      "|   ('dwukrotnie użyty wyraz', 13.432253789295611)  | usługa:subst korzystać:fin jednostka:subst 13.650222204966445  |\n",
      "|  ('funduszu odrębny bilans', 13.432253789295611)  |  obowiązkowy:adj obciążyć:ger wynik:subst 13.650222204966445   |\n",
      "+---------------------------------------------------+----------------------------------------------------------------+\n"
     ]
    }
   ],
   "source": [
    "r1 = collections.Counter(filltered_trigrams_pmi).most_common()\n",
    "r2 = [ x[0][0][0]+\":\"+x[0][0][1]+\" \"+x[0][1][0]+\":\"+x[0][1][1]+\" \"+x[0][2][0]+\":\"+x[0][2][1]+\" \"+str(x[1]) for x in collections.Counter(filltered_trigrams_pmi_tagged).most_common()]\n",
    "t = PrettyTable(['PMI untagged', 'PMI tagged'])\n",
    "for i in range(10):\n",
    "    t.add_row([r1[i],r2[i]])\n",
    "print(t)"
   ]
  },
  {
   "cell_type": "markdown",
   "id": "4ac72e25",
   "metadata": {},
   "source": [
    "<h4>Additinal table for tagged bigrams with and without aditional filter (adj-subst-adj)</h4>"
   ]
  },
  {
   "cell_type": "code",
   "execution_count": 95,
   "id": "6648b8bd",
   "metadata": {},
   "outputs": [
    {
     "name": "stdout",
     "output_type": "stream",
     "text": [
      "+---------------------------------------------------------------+-----------------------------------------------------+\n",
      "|                     PMI tagged with filter                    |                      PMI tagged                     |\n",
      "+---------------------------------------------------------------+-----------------------------------------------------+\n",
      "| czechosłowacki:adj republika:subst socjalistyczny:adj 13.6502 |  cel:subst zastrzec:ger pierwszeństwo:subst 13.6502 |\n",
      "|         porcelanowy:adj młyn:subst kulowy:adj 13.6502         |    uroczyście:adv na:prep powierzyć:ppas 13.6502    |\n",
      "|     elektroniczny:adj skrzynka:subst podawczy:adj 13.6502     | przedstawiać:fin korzystny:adj bilans:subst 13.6502 |\n",
      "|     ratowniczy:adj centrum:subst koordynacyjny:adj 13.4679    |       wnieść:ger nowy:adj wadium:subst 13.6502      |\n",
      "|      wojskowy:adj areszt:subst dyscyplinarny:adj 13.4679      |     zanim:comp zapaść:praet pierwszy:adj 13.6502    |\n",
      "|           pełny:adj krew:subst angielski:adj 13.4679          |     wpływ:subst uchybienie:subst na:prep 13.6502    |\n",
      "|         bezwodny:adj tłuszcz:subst mleczny:adj 13.4679        |    fundusz:subst odrębny:adj bilans:subst 13.6502   |\n",
      "|     wojewódzki:adj zgromadzenie:subst wyborczy:adj 13.4679    |    każdy:adj rozliczać:ppas miesiąc:subst 13.6502   |\n",
      "|    roczny:adj przygotowanie:subst przedszkolny:adj 13.4679    |  usługa:subst korzystać:fin jednostka:subst 13.6502 |\n",
      "|       krajowy:adj informacja:subst skarbowy:adj 13.4679       |   obowiązkowy:adj obciążyć:ger wynik:subst 13.6502  |\n",
      "+---------------------------------------------------------------+-----------------------------------------------------+\n"
     ]
    }
   ],
   "source": [
    "r1 = [ x[0][0][0]+\":\"+x[0][0][1]+\" \"+x[0][1][0]+\":\"+x[0][1][1]+\" \"+x[0][2][0]+\":\"+x[0][2][1]+\" \"+str(round(x[1],4)) for x in collections.Counter({trigram:pmi for trigram,pmi in filltered_trigrams_pmi_tagged.items() if trigram[0][1]=='adj' and trigram[1][1]=='subst' and trigram[2][1]=='adj'}).most_common()]\n",
    "r2 = [ x[0][0][0]+\":\"+x[0][0][1]+\" \"+x[0][1][0]+\":\"+x[0][1][1]+\" \"+x[0][2][0]+\":\"+x[0][2][1]+\" \"+str(round(x[1],4)) for x in collections.Counter(filltered_trigrams_pmi_tagged).most_common()]\n",
    "t = PrettyTable(['PMI tagged with filter', 'PMI tagged'])\n",
    "for i in range(10):\n",
    "    t.add_row([r1[i],r2[i]])\n",
    "print(t)"
   ]
  },
  {
   "cell_type": "markdown",
   "id": "3c5b5de1",
   "metadata": {},
   "source": [
    "<h4>Answers</h4>\n",
    "<h5>I</h5>\n",
    "<p>We have to filter bigrams rather than token sequences in order to preserve real and meaningful connections between tokens. For example if we have a sequence of tokens looking like this: a1 a2 n1 n2 a3 a4, where a&lt;nr&gt; represents a valid token and n&lt;nr&gt; represents an invalid token, if we filter tokens first we will get bigrams: a1a2 a2a3 a3a4 whereas if we first create bigrams and filter then we will get bigrams a1a2 a3a4. As we see the operation order is important as we can end up with different bigrams depending of the order of operations. Filtering after creating bigrams is preferred as it preserves original words collocations.</p>\n",
    "<h5>II</h5>\n",
    "<p>It is hard to determine if lemmatization and tagging makes a significant difference in terms of quality of found results both for bigrams and trigrams. However lemmatization and tagging may offer us further insight of the data and enable additional filtering when searchin for specific expressions.</p>\n",
    "<h5>III</h5>\n",
    "<p>Those methods help in discovering multi word expressions of different types such as multiword named entities and multiword terms.</p>\n",
    "<h5>IV</h5>\n",
    "<p>It is definitely possible to devise better solutions especially for certain types of datasets. Depending on the task given and the understanding of the data it may be possible to devise better or additional filters other than non-letter characters. As an example in the last table of the exercise, simple tagged trigrams have been compared with the same trigrams but with additional filters that checked if the trigram was constructed from an adjective noun and adjective in that order. In my opinion expressions found with the additional filter are of higher potential quality than the unfiltered ones.</p>"
   ]
  },
  {
   "cell_type": "code",
   "execution_count": null,
   "id": "49951e8f",
   "metadata": {},
   "outputs": [],
   "source": []
  }
 ],
 "metadata": {
  "kernelspec": {
   "display_name": "Python 3 (ipykernel)",
   "language": "python",
   "name": "python3"
  },
  "language_info": {
   "codemirror_mode": {
    "name": "ipython",
    "version": 3
   },
   "file_extension": ".py",
   "mimetype": "text/x-python",
   "name": "python",
   "nbconvert_exporter": "python",
   "pygments_lexer": "ipython3",
   "version": "3.10.7"
  }
 },
 "nbformat": 4,
 "nbformat_minor": 5
}
